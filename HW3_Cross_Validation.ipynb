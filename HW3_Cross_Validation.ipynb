{
  "nbformat": 4,
  "nbformat_minor": 0,
  "metadata": {
    "colab": {
      "name": "HW3_Cross_Validation.ipynb",
      "provenance": [],
      "collapsed_sections": []
    },
    "kernelspec": {
      "name": "python3",
      "display_name": "Python 3"
    }
  },
  "cells": [
    {
      "cell_type": "markdown",
      "metadata": {
        "id": "XZpSUUJknAF4"
      },
      "source": [
        "#Assignment 3\n",
        "Re-implement the example in section 7.10.2 using any simple, out of the box classifier (like K nearest neighbors from sci-kit). Reproduce the results for the incorrect and correct way of doing cross-validation."
      ]
    },
    {
      "cell_type": "markdown",
      "metadata": {
        "id": "LkgDVwd73aRR"
      },
      "source": [
        "## Analysis 7.10.2 Wrong and Right way of cross validation\n",
        "\n",
        "Wrong way:\n",
        "1. Screen the predictors: find a subset of “good” predictors that show\n",
        "fairly strong (univariate) correlation with the class labels\n",
        "2. Using just this subset of predictors, build a multivariate classifier.\n",
        "3. Use cross-validation to estimate the unknown tuning parameters and\n",
        "to estimate the prediction error of the final model\n",
        "\n",
        "The problem is that the predictors have an unfair advantage, as they were chosen in step (1) on the basis of all of the samples. Leaving samples out after the variables have been selected does not correctly mimic the application of the classifier to a completely independent test set, since these predictors “have already seen” the left out samples.\n",
        "___\n",
        "\n",
        "Right way: K-folds cross validation\n",
        "\n",
        "1. Divide the samples into K cross-validation folds (groups) at random.\n",
        "2. For each fold k = 1, 2, . . . , K\n",
        "\n",
        "    a. Find a subset of “good” predictors that show fairly strong (univariate) correlation with the class labels, using all of the samples except those in fold k.\n",
        "\n",
        "    b. Using just this subset of predictors, build a multivariate classifier, using all of the samples except those in fold k.\n",
        "    \n",
        "    c. Use the classifier to predict the class labels for the samples in fold k.\n",
        "\n",
        "The error estimates from step 2(c) are then accumulated over all K folds, to\n",
        "produce the cross-validation estimate of prediction error\n",
        "\n"
      ]
    },
    {
      "cell_type": "markdown",
      "metadata": {
        "id": "bqbY5yDK5Pw6"
      },
      "source": [
        "## Generate random dataset\n",
        "Dataframe contains 50 observations and 5000 features. Features generated using standard gaussian distribution. True error accuracy is 50%."
      ]
    },
    {
      "cell_type": "code",
      "metadata": {
        "id": "krmRO8SJm6_M"
      },
      "source": [
        "import numpy as np\n",
        "import pandas as pd\n",
        "from sklearn.neighbors import KNeighborsClassifier\n",
        "from sklearn.metrics import accuracy_score\n",
        "from sklearn.model_selection import cross_val_score\n",
        "import matplotlib.pyplot as plt\n",
        "\n",
        "\n",
        "mu, sigma = 0, 1 # mean and standard deviation\n",
        "s = np.random.normal(mu, sigma, [50,5000])\n",
        "df = pd.DataFrame(s)\n",
        "df['label'] = np.zeros([df.shape[0],1])\n",
        "df['label'][0:round(df.shape[0]/2)] = 1  # 50% correct\n",
        "# display(df.head())"
      ],
      "execution_count": null,
      "outputs": []
    },
    {
      "cell_type": "markdown",
      "metadata": {
        "id": "Q_TmIjoq7-Dq"
      },
      "source": [
        "## Wrong Way of Cross Validation\n",
        "1. Screen the predictors: find a subset of “good” predictors that show\n",
        "fairly strong (univariate) correlation with the class labels\n",
        "2. Using just this subset of predictors, build a multivariate classifier.\n",
        "3. Use cross-validation to estimate the unknown tuning parameters and\n",
        "to estimate the prediction error of the final model"
      ]
    },
    {
      "cell_type": "code",
      "metadata": {
        "id": "Xo8sqJ6Z77x_",
        "colab": {
          "base_uri": "https://localhost:8080/",
          "height": 296
        },
        "outputId": "9d64d4c6-1cbe-420e-8c48-6b543a936281"
      },
      "source": [
        "def generate_df(): \n",
        "  mu, sigma = 0, 1 # mean and standard deviation\n",
        "  s = np.random.normal(mu, sigma, [50,5000])\n",
        "  df = pd.DataFrame(s)\n",
        "  df['label'] = np.zeros([df.shape[0],1])\n",
        "  df['label'][0:round(df.shape[0]/2)] = 1  # 50% correct\n",
        "  # display(df.head())\n",
        "  return df\n",
        "\n",
        "def select_feature(df,num_feat,plot = False):\n",
        "  local_df = df.copy()\n",
        "  # Feature correlation using Pearson Correlation\n",
        "  correlation = []\n",
        "  correlation_abs = []\n",
        "  for features in df.columns[:-1]:\n",
        "    correlation.append(df[features].corr(df['label']))\n",
        "    correlation_abs.append(abs(df[features].corr(df['label'])))\n",
        "  local_df = local_df.append(pd.Series(correlation,name=\"correlation\"),ignore_index = False)\n",
        "  local_df = local_df.append(pd.Series(correlation_abs,name=\"correlation abs\"),ignore_index = False)\n",
        "  local_df = local_df.sort_values(by=(\"correlation\"),axis = 1, ascending=False)\n",
        "  local_df = local_df[local_df.columns[0:num_feat]]\n",
        "  correlation = local_df.loc['correlation',:]\n",
        "  correlation_abs = local_df.loc['correlation abs',:]\n",
        "  local_df = local_df.drop([\"correlation\", \"correlation abs\"],axis=0)\n",
        "\n",
        "  # if(plot == True):\n",
        "  #   plt.figure()\n",
        "  #   plt.hist(correlation)\n",
        "  #   plt.xlabel(\"Correlations of Selected Predictors\")\n",
        "  #   plt.ylabel(\"Frequency\")\n",
        "  #   plt.title(\"Wrong way\")\n",
        "  return local_df\n",
        "\n",
        "def classify(features,labels):\n",
        "  neigh = KNeighborsClassifier(n_neighbors=1,metric='euclidean')\n",
        "  neigh.fit(features, labels)\n",
        "  return neigh\n",
        "\n",
        "def cross_validation(features,labels,clf):\n",
        "  pred = clf.predict(features)\n",
        "  score = accuracy_score(labels,pred,normalize=True)\n",
        "  print(score)\n",
        "  return score\n",
        "\n",
        "def wrong_cross_validation(plot=False, print_output=False):\n",
        "  df = generate_df()\n",
        "  df = df.sample(frac=1,random_state=1).reset_index(drop=True)\n",
        "  # Select 100 features\n",
        "  features = select_feature(df,100,plot=False)\n",
        "  labels = df['label']\n",
        "  selected_feats = features.columns\n",
        "  # Create classifier object, perform cross validation, and reprot score\n",
        "  neigh = KNeighborsClassifier(n_neighbors=1,metric='euclidean')\n",
        "  score = cross_val_score(neigh,X=features,y=labels,cv = 5)\n",
        "  score = sum(score)/score.shape[0]\n",
        "\n",
        "  if(print_output == True):\n",
        "    print(f\"CV score = {round(score,3)}\")\n",
        "\n",
        "  # Plotting correaltion histogram using randomly selected 10 samples\n",
        "  if(plot == True):\n",
        "    sample_df = df.copy()\n",
        "    selected_feats = selected_feats.append(pd.Index([\"label\"]))\n",
        "    sample_df = df.sample(frac=0.2,random_state=2).loc[:][selected_feats]    \n",
        "    sample_corr = []\n",
        "    for features in sample_df.columns[:-1]:\n",
        "      sample_corr.append(sample_df[features].corr(sample_df['label']))\n",
        "\n",
        "    plt.figure()\n",
        "    plt.hist(sample_corr)\n",
        "    plt.xlabel(\"Correlation Coefficient\")\n",
        "    plt.ylabel(\"Frequency\")\n",
        "    plt.show()\n",
        "  return score\n",
        "\n",
        "\n",
        "# Run CV 50 times, find average error rate\n",
        "error_rate = 0\n",
        "num_cycle = 50\n",
        "for i in range(num_cycle):\n",
        "  error_rate += (1- wrong_cross_validation(plot=False))\n",
        "print(f\"Incorrect Cross Validation Error Rate is {round(error_rate/num_cycle*100)}%.\")\n",
        "\n",
        "# Gnerate a correlation histogram\n",
        "_ = wrong_cross_validation(plot=True)"
      ],
      "execution_count": null,
      "outputs": [
        {
          "output_type": "stream",
          "text": [
            "Incorrect Cross Validation Error Rate is 3.0%.\n"
          ],
          "name": "stdout"
        },
        {
          "output_type": "display_data",
          "data": {
            "image/png": "[encoded data removed]",
            "text/plain": [
              "<Figure size 432x288 with 1 Axes>"
            ]
          },
          "metadata": {
            "tags": [],
            "needs_background": "light"
          }
        }
      ]
    },
    {
      "cell_type": "markdown",
      "metadata": {
        "id": "hEVXt0MsACjv"
      },
      "source": [
        "## Right Way of Cross Validation Using K folds\n",
        "1. Divide the samples into K folds at random\n",
        "2. For each fold k in K, use the other folds to determine \n",
        "good predictors based on highest correlation to create a classifier\n",
        "3. Use this classifier on fold k, and repeat the process\n",
        "\n",
        "In this example, we used K Nearest Neighbors with n = 1.\n",
        "Our random state of 2 resulted in 50% correct accuracy/50% \n",
        "error rate."
      ]
    },
    {
      "cell_type": "code",
      "metadata": {
        "id": "bhAcWWvKhpLY"
      },
      "source": [
        "from sklearn.neighbors import KNeighborsClassifier\n",
        "\n",
        "def score(test_feat,test_label,print_output = False):\n",
        "  \"\"\"\n",
        "  Accuracy of validation label to predicted validation label\n",
        "  Inputs are numpy arrays \n",
        "  \"\"\"\n",
        "  num_correct = 0\n",
        "  for i in range(len(test_label)):\n",
        "    if(test_feat[i] == test_label[i]):\n",
        "      num_correct += 1\n",
        "  accuracy = num_correct/len(test_label)\n",
        "  if(print_output == True):\n",
        "    print(f\"Accuracy of current model is {round(accuracy,2)}\\n\")\n",
        "  return accuracy\n",
        "\n",
        "\n",
        "def right_cross_validation(df,k):\n",
        "  \"\"\"\n",
        "  df is an input dataframe, and k is the number of folds\n",
        "  returns the predicted error\n",
        "  \"\"\"\n",
        "  df_split = np.array_split(df, k)\n",
        "  error = [None]*k\n",
        "  for i in range(len(df_split)):\n",
        "    train = df_split[0:i] + df_split[i+1:len(df_split)] #excludes the validation and creates a list of numpy arrays\n",
        "    train = pd.concat(train) #combines the list into 1 dataframe\n",
        "    y_train = train[\"label\"]\n",
        "    x_train = train.drop([\"label\"], axis=1)\n",
        "\n",
        "    validation = df_split[i] #pops the validation array\n",
        "    validation = pd.DataFrame(validation) #converts the validation array into a dataframe \n",
        "    y_validation = validation[\"label\"]\n",
        "    x_validation = validation.drop([\"label\"], axis=1)\n",
        "\n",
        "    knn = KNeighborsClassifier(n_neighbors=1, metric='euclidean')\n",
        "    knn.fit(x_train, y_train)\n",
        "    y_pred = knn.predict(x_validation)\n",
        "\n",
        "    error[i] = score(y_pred,y_validation.to_numpy())\n",
        "\n",
        "  return(np.mean(error)) #average of errors for each fold"
      ],
      "execution_count": null,
      "outputs": []
    },
    {
      "cell_type": "code",
      "metadata": {
        "id": "LEoggGFAhtDx",
        "colab": {
          "base_uri": "https://localhost:8080/",
          "height": 34
        },
        "outputId": "82066134-e2b1-4b00-b955-3d3534d01346"
      },
      "source": [
        "correct_df = df\n",
        "correct_df = correct_df.sample(frac = 1, random_state =2)\n",
        "success = right_cross_validation(correct_df,5)\n",
        "error = 1-success\n",
        "\n",
        "print(f\"Correct Cross Validation Error Rate is {round(error,5)*100}%.\")"
      ],
      "execution_count": null,
      "outputs": [
        {
          "output_type": "stream",
          "text": [
            "Correct Cross Validation Error Rate is 38.0%.\n"
          ],
          "name": "stdout"
        }
      ]
    }
  ]
}