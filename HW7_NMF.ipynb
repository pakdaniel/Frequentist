{
  "nbformat": 4,
  "nbformat_minor": 0,
  "metadata": {
    "colab": {
      "name": "Frequentist_HW7",
      "provenance": [],
      "collapsed_sections": [],
      "toc_visible": true
    },
    "kernelspec": {
      "display_name": "Python 3",
      "name": "python3"
    }
  },
  "cells": [
    {
      "cell_type": "markdown",
      "metadata": {
        "id": "q00zIm0QiZKo"
      },
      "source": [
        "# Non Matrix Factorization (Daniel Pak and Harry Wei)"
      ]
    },
    {
      "cell_type": "markdown",
      "metadata": {
        "id": "IS5W3Qr60Pdp"
      },
      "source": [
        "**For** this assignment, we built a recommendation model using non matrix factorization. We selected the Surprise library (http://surpriselib.com/) which contains well built recomendation algorithms, including NMF. Many dataset suitable for recommendation systems were pre-loaded into the Surpise package, and we selected the 100k movie lens dataset. \n",
        "\n",
        "**We** imported the NMF model, tuned and cross validated our system to select the best values for the # of latent dimensions, the regularization parameter, and other hyperparameters."
      ]
    },
    {
      "cell_type": "markdown",
      "metadata": {
        "id": "-NLksdqkipL6"
      },
      "source": [
        "## Importing All Modules and the Dataset"
      ]
    },
    {
      "cell_type": "code",
      "metadata": {
        "colab": {
          "base_uri": "https://localhost:8080/"
        },
        "id": "3HGHsDmndw5X",
        "outputId": "42ab2c2b-98bb-41db-aa61-ed4d59006073"
      },
      "source": [
        "!pip3 install surprise"
      ],
      "execution_count": null,
      "outputs": [
        {
          "output_type": "stream",
          "text": [
            "Requirement already satisfied: surprise in /usr/local/lib/python3.6/dist-packages (0.1)\n",
            "Requirement already satisfied: scikit-surprise in /usr/local/lib/python3.6/dist-packages (from surprise) (1.1.1)\n",
            "Requirement already satisfied: scipy>=1.0.0 in /usr/local/lib/python3.6/dist-packages (from scikit-surprise->surprise) (1.4.1)\n",
            "Requirement already satisfied: six>=1.10.0 in /usr/local/lib/python3.6/dist-packages (from scikit-surprise->surprise) (1.15.0)\n",
            "Requirement already satisfied: numpy>=1.11.2 in /usr/local/lib/python3.6/dist-packages (from scikit-surprise->surprise) (1.18.5)\n",
            "Requirement already satisfied: joblib>=0.11 in /usr/local/lib/python3.6/dist-packages (from scikit-surprise->surprise) (0.17.0)\n"
          ],
          "name": "stdout"
        }
      ]
    },
    {
      "cell_type": "code",
      "metadata": {
        "id": "l_6KysiKdjOc"
      },
      "source": [
        "import pandas as pd\n",
        "import numpy as np\n",
        "import matplotlib.pyplot as plt\n",
        "import surprise\n",
        "from surprise import Dataset, accuracy\n",
        "from surprise.model_selection.search import GridSearchCV\n",
        "from surprise.prediction_algorithms.matrix_factorization import NMF\n",
        "from sklearn.model_selection import train_test_split\n",
        "from time import time\n",
        "import copy\n",
        "import os\n",
        "\n",
        "# Import 100k movie lens dataset\n",
        "data = Dataset.load_builtin(\"ml-100k\")\n",
        "ratings = data.raw_ratings\n",
        "X_train, X_test = train_test_split(ratings, test_size=0.2,random_state=0)"
      ],
      "execution_count": null,
      "outputs": []
    },
    {
      "cell_type": "markdown",
      "metadata": {
        "id": "k3eQXNqMjPkU"
      },
      "source": [
        "## Basic Recommendation System Using Movie Lens Dataset\n",
        "\n",
        "This section creates and trains a recommendation system using Non Matrix Factorization method. The algorithm goes through an exhaustive search to find the best hyper parameters.  "
      ]
    },
    {
      "cell_type": "code",
      "metadata": {
        "id": "nkeD9Zt9fmXN",
        "colab": {
          "base_uri": "https://localhost:8080/"
        },
        "outputId": "f797870b-efc4-4e3c-8a27-dd1cc3250ade"
      },
      "source": [
        "data.raw_ratings = X_train\n",
        "# factors_val = np.linspace(100,1000,5).astype('int')\n",
        "# epoch_val = [5, 10, 20, 25, 30]\n",
        "# p_val = np.linspace(0.1,0.5,5)\n",
        "# q_val = np.linspace(0.15,0.2,5)\n",
        "\n",
        "factors_val = [550]\n",
        "epoch_val = [20]\n",
        "p_val = [0.3]\n",
        "q_val = [0.18]\n",
        "\n",
        "\n",
        "parameters = {'n_factors': factors_val, 'n_epochs': epoch_val, 'reg_pu': p_val, 'reg_qi': q_val} #https://surprise.readthedocs.io/en/stable/matrix_factorization.html\n",
        "gs = GridSearchCV(NMF, parameters, measures=['mse'], cv = 3, n_jobs = -1)\n",
        "# Training model using the training set\n",
        "t0 = time()\n",
        "gs.fit(data)\n",
        "tf = time()\n",
        "print(f\"Training finished in {tf-t0} seconds.\")\n",
        "\n",
        "# Print model hyper parameters that generates the lowest MSE scores\n",
        "print(gs.best_score['mse'])\n",
        "print(gs.best_params['mse'])"
      ],
      "execution_count": null,
      "outputs": [
        {
          "output_type": "stream",
          "text": [
            "Training finished in 82.9665150642395 seconds.\n",
            "0.9143814647209784\n",
            "{'n_factors': 550, 'n_epochs': 20, 'reg_pu': 0.3, 'reg_qi': 0.18}\n"
          ],
          "name": "stdout"
        }
      ]
    },
    {
      "cell_type": "markdown",
      "metadata": {
        "id": "G7peO-W4-LP9"
      },
      "source": [
        "### Prediction and test scores\n",
        "The traind recommendation system is used to generate a prediction of ratings of movies for everyone. The mean squared error between the prediction and actual rating is calculateed and displayed. The same is done for the test set."
      ]
    },
    {
      "cell_type": "code",
      "metadata": {
        "id": "R8Do2W0Qlsnj",
        "colab": {
          "base_uri": "https://localhost:8080/"
        },
        "outputId": "2735c30d-a5e1-460e-9278-839cfe7004a7"
      },
      "source": [
        "model = gs.best_estimator['mse']\n",
        "trainset = data.build_full_trainset()\n",
        "model.fit(trainset)\n",
        "train_predict = model.test(trainset.build_testset())\n",
        "print(f\"Accuracy of Training Set is {accuracy.mse(train_predict, verbose=False)}\")"
      ],
      "execution_count": null,
      "outputs": [
        {
          "output_type": "stream",
          "text": [
            "Accuracy of Training Set is 0.8083042015083123\n"
          ],
          "name": "stdout"
        }
      ]
    },
    {
      "cell_type": "code",
      "metadata": {
        "id": "PrJAZVOCat1b",
        "colab": {
          "base_uri": "https://localhost:8080/"
        },
        "outputId": "da8305a7-6a91-4e91-dc78-7ca8167227af"
      },
      "source": [
        "testset = data.construct_testset(X_test)\n",
        "test_predict = model.test(testset)\n",
        "\n",
        "print(f\"Accuracy of Test Set is {accuracy.mse(test_predict, verbose=False)}\")"
      ],
      "execution_count": null,
      "outputs": [
        {
          "output_type": "stream",
          "text": [
            "Accuracy of Test Set is 0.8985747233268002\n"
          ],
          "name": "stdout"
        }
      ]
    },
    {
      "cell_type": "markdown",
      "metadata": {
        "id": "kTJtOqp6_Weo"
      },
      "source": [
        "### Interpretation of movie recommendatios\n",
        "The following table displays the result of prediction, as well as actual rating side by side. The second table shows the same data sorted by user ID. "
      ]
    },
    {
      "cell_type": "code",
      "metadata": {
        "id": "EibQenAHhtU6",
        "colab": {
          "base_uri": "https://localhost:8080/",
          "height": 453
        },
        "outputId": "adea557f-52d2-4dee-b977-9f952fba5aec"
      },
      "source": [
        "df_test = pd.DataFrame(test_predict)\n",
        "df_test = df_test.drop([\"details\"], axis=1)\n",
        "df_test.columns = [\"User ID\", \"Movie ID\", \"Actual Movie Ratings\", \"Predicted Movie Ratings\"]\n",
        "\n",
        "movies = pd.read_csv(\"movie_item.txt\", sep=\"|\",header=None)\n",
        "movies = movies[[0,1]]\n",
        "movies.columns = [\"Movie ID\", \"Movie Title\"]\n",
        "movies['Movie ID'] = movies['Movie ID']-1\n",
        "movies_dict = movies.to_dict()\n",
        "df_test[\"Movie ID\"] = df_test[\"Movie ID\"].astype(\"int\").map(movies_dict['Movie Title'])\n",
        "display(df_test)"
      ],
      "execution_count": null,
      "outputs": [
        {
          "output_type": "display_data",
          "data": {
            "text/html": [
              "<div>\n",
              "<style scoped>\n",
              "    .dataframe tbody tr th:only-of-type {\n",
              "        vertical-align: middle;\n",
              "    }\n",
              "\n",
              "    .dataframe tbody tr th {\n",
              "        vertical-align: top;\n",
              "    }\n",
              "\n",
              "    .dataframe thead th {\n",
              "        text-align: right;\n",
              "    }\n",
              "</style>\n",
              "<table border=\"1\" class=\"dataframe\">\n",
              "  <thead>\n",
              "    <tr style=\"text-align: right;\">\n",
              "      <th></th>\n",
              "      <th>User ID</th>\n",
              "      <th>Movie ID</th>\n",
              "      <th>Actual Movie Ratings</th>\n",
              "      <th>Predicted Movie Ratings</th>\n",
              "    </tr>\n",
              "  </thead>\n",
              "  <tbody>\n",
              "    <tr>\n",
              "      <th>0</th>\n",
              "      <td>23</td>\n",
              "      <td>My Life as a Dog (Mitt liv som hund) (1985)</td>\n",
              "      <td>4.0</td>\n",
              "      <td>3.986150</td>\n",
              "    </tr>\n",
              "    <tr>\n",
              "      <th>1</th>\n",
              "      <td>695</td>\n",
              "      <td>Jungle2Jungle (1997)</td>\n",
              "      <td>5.0</td>\n",
              "      <td>3.972350</td>\n",
              "    </tr>\n",
              "    <tr>\n",
              "      <th>2</th>\n",
              "      <td>774</td>\n",
              "      <td>Batman Forever (1995)</td>\n",
              "      <td>3.0</td>\n",
              "      <td>2.368556</td>\n",
              "    </tr>\n",
              "    <tr>\n",
              "      <th>3</th>\n",
              "      <td>417</td>\n",
              "      <td>Lord of Illusions (1995)</td>\n",
              "      <td>3.0</td>\n",
              "      <td>3.144461</td>\n",
              "    </tr>\n",
              "    <tr>\n",
              "      <th>4</th>\n",
              "      <td>234</td>\n",
              "      <td>Drop Dead Fred (1991)</td>\n",
              "      <td>3.0</td>\n",
              "      <td>2.665321</td>\n",
              "    </tr>\n",
              "    <tr>\n",
              "      <th>...</th>\n",
              "      <td>...</td>\n",
              "      <td>...</td>\n",
              "      <td>...</td>\n",
              "      <td>...</td>\n",
              "    </tr>\n",
              "    <tr>\n",
              "      <th>19995</th>\n",
              "      <td>659</td>\n",
              "      <td>Copycat (1995)</td>\n",
              "      <td>3.0</td>\n",
              "      <td>3.574292</td>\n",
              "    </tr>\n",
              "    <tr>\n",
              "      <th>19996</th>\n",
              "      <td>14</td>\n",
              "      <td>Better Off Dead... (1985)</td>\n",
              "      <td>5.0</td>\n",
              "      <td>4.259313</td>\n",
              "    </tr>\n",
              "    <tr>\n",
              "      <th>19997</th>\n",
              "      <td>629</td>\n",
              "      <td>High Noon (1952)</td>\n",
              "      <td>5.0</td>\n",
              "      <td>4.097314</td>\n",
              "    </tr>\n",
              "    <tr>\n",
              "      <th>19998</th>\n",
              "      <td>892</td>\n",
              "      <td>Field of Dreams (1989)</td>\n",
              "      <td>2.0</td>\n",
              "      <td>3.721906</td>\n",
              "    </tr>\n",
              "    <tr>\n",
              "      <th>19999</th>\n",
              "      <td>417</td>\n",
              "      <td>Paris, Texas (1984)</td>\n",
              "      <td>3.0</td>\n",
              "      <td>3.737270</td>\n",
              "    </tr>\n",
              "  </tbody>\n",
              "</table>\n",
              "<p>20000 rows × 4 columns</p>\n",
              "</div>"
            ],
            "text/plain": [
              "      User ID  ... Predicted Movie Ratings\n",
              "0          23  ...                3.986150\n",
              "1         695  ...                3.972350\n",
              "2         774  ...                2.368556\n",
              "3         417  ...                3.144461\n",
              "4         234  ...                2.665321\n",
              "...       ...  ...                     ...\n",
              "19995     659  ...                3.574292\n",
              "19996      14  ...                4.259313\n",
              "19997     629  ...                4.097314\n",
              "19998     892  ...                3.721906\n",
              "19999     417  ...                3.737270\n",
              "\n",
              "[20000 rows x 4 columns]"
            ]
          },
          "metadata": {
            "tags": []
          }
        }
      ]
    },
    {
      "cell_type": "code",
      "metadata": {
        "id": "hQ6GTsFHrHJL",
        "colab": {
          "base_uri": "https://localhost:8080/",
          "height": 453
        },
        "outputId": "01159b87-eea9-4696-9b1d-3057d14f10be"
      },
      "source": [
        "df_test.sort_values(by='User ID')"
      ],
      "execution_count": null,
      "outputs": [
        {
          "output_type": "execute_result",
          "data": {
            "text/html": [
              "<div>\n",
              "<style scoped>\n",
              "    .dataframe tbody tr th:only-of-type {\n",
              "        vertical-align: middle;\n",
              "    }\n",
              "\n",
              "    .dataframe tbody tr th {\n",
              "        vertical-align: top;\n",
              "    }\n",
              "\n",
              "    .dataframe thead th {\n",
              "        text-align: right;\n",
              "    }\n",
              "</style>\n",
              "<table border=\"1\" class=\"dataframe\">\n",
              "  <thead>\n",
              "    <tr style=\"text-align: right;\">\n",
              "      <th></th>\n",
              "      <th>User ID</th>\n",
              "      <th>Movie ID</th>\n",
              "      <th>Actual Movie Ratings</th>\n",
              "      <th>Predicted Movie Ratings</th>\n",
              "    </tr>\n",
              "  </thead>\n",
              "  <tbody>\n",
              "    <tr>\n",
              "      <th>11783</th>\n",
              "      <td>1</td>\n",
              "      <td>Love Bug, The (1969)</td>\n",
              "      <td>1.0</td>\n",
              "      <td>2.799149</td>\n",
              "    </tr>\n",
              "    <tr>\n",
              "      <th>3660</th>\n",
              "      <td>1</td>\n",
              "      <td>Carlito's Way (1993)</td>\n",
              "      <td>4.0</td>\n",
              "      <td>3.169712</td>\n",
              "    </tr>\n",
              "    <tr>\n",
              "      <th>7645</th>\n",
              "      <td>1</td>\n",
              "      <td>Jude (1996)</td>\n",
              "      <td>2.0</td>\n",
              "      <td>3.272450</td>\n",
              "    </tr>\n",
              "    <tr>\n",
              "      <th>3126</th>\n",
              "      <td>1</td>\n",
              "      <td>Beavis and Butt-head Do America (1996)</td>\n",
              "      <td>4.0</td>\n",
              "      <td>3.599938</td>\n",
              "    </tr>\n",
              "    <tr>\n",
              "      <th>13431</th>\n",
              "      <td>1</td>\n",
              "      <td>Mimic (1997)</td>\n",
              "      <td>1.0</td>\n",
              "      <td>2.375029</td>\n",
              "    </tr>\n",
              "    <tr>\n",
              "      <th>...</th>\n",
              "      <td>...</td>\n",
              "      <td>...</td>\n",
              "      <td>...</td>\n",
              "      <td>...</td>\n",
              "    </tr>\n",
              "    <tr>\n",
              "      <th>8990</th>\n",
              "      <td>99</td>\n",
              "      <td>Wrong Trousers, The (1993)</td>\n",
              "      <td>5.0</td>\n",
              "      <td>4.142914</td>\n",
              "    </tr>\n",
              "    <tr>\n",
              "      <th>14046</th>\n",
              "      <td>99</td>\n",
              "      <td>Brothers McMullen, The (1995)</td>\n",
              "      <td>3.0</td>\n",
              "      <td>3.446930</td>\n",
              "    </tr>\n",
              "    <tr>\n",
              "      <th>13110</th>\n",
              "      <td>99</td>\n",
              "      <td>Back to the Future (1985)</td>\n",
              "      <td>4.0</td>\n",
              "      <td>3.889419</td>\n",
              "    </tr>\n",
              "    <tr>\n",
              "      <th>14708</th>\n",
              "      <td>99</td>\n",
              "      <td>Independence Day (ID4) (1996)</td>\n",
              "      <td>2.0</td>\n",
              "      <td>2.210188</td>\n",
              "    </tr>\n",
              "    <tr>\n",
              "      <th>7282</th>\n",
              "      <td>99</td>\n",
              "      <td>Big Squeeze, The (1996)</td>\n",
              "      <td>4.0</td>\n",
              "      <td>3.094110</td>\n",
              "    </tr>\n",
              "  </tbody>\n",
              "</table>\n",
              "<p>20000 rows × 4 columns</p>\n",
              "</div>"
            ],
            "text/plain": [
              "      User ID  ... Predicted Movie Ratings\n",
              "11783       1  ...                2.799149\n",
              "3660        1  ...                3.169712\n",
              "7645        1  ...                3.272450\n",
              "3126        1  ...                3.599938\n",
              "13431       1  ...                2.375029\n",
              "...       ...  ...                     ...\n",
              "8990       99  ...                4.142914\n",
              "14046      99  ...                3.446930\n",
              "13110      99  ...                3.889419\n",
              "14708      99  ...                2.210188\n",
              "7282       99  ...                3.094110\n",
              "\n",
              "[20000 rows x 4 columns]"
            ]
          },
          "metadata": {
            "tags": []
          },
          "execution_count": 13
        }
      ]
    }
  ]
}