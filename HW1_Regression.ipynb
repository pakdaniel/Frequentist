{
  "nbformat": 4,
  "nbformat_minor": 0,
  "metadata": {
    "colab": {
      "name": "hw1.ipynb",
      "provenance": [],
      "collapsed_sections": [
        "fmtM7PeGrIZa",
        "foha7LrgZDVQ",
        "C6UeF0ONIT89",
        "HFVlVRX_Bb23"
      ],
      "toc_visible": true
    },
    "kernelspec": {
      "name": "python3",
      "display_name": "Python 3"
    }
  },
  "cells": [
    {
      "cell_type": "markdown",
      "metadata": {
        "id": "Ss0KHpph2NVy"
      },
      "source": [
        "#Assignment 1: Linear Regression\n",
        "\n",
        "The goals of this assignment are as follows:\n",
        "\n",
        "*   Creating an algorithm for Linear Regression\n",
        "  * Determining MSE on test set\n",
        "\n",
        "*   Creating an algorithm for Ridge Regression\n",
        "  * Determining optimal lambda using validation set\n",
        "  * Determining MSE on test set using optimal lambda\n",
        "\n",
        "*   Using scikit-learn for Lasso Regression\n",
        "  * Determining optimal lambda using validation set\n",
        "  * Determining MSE on test set using optimal lambda\n",
        "\n"
      ]
    },
    {
      "cell_type": "markdown",
      "metadata": {
        "id": "fmtM7PeGrIZa"
      },
      "source": [
        "# Relevant Imports and Creating Dataframes"
      ]
    },
    {
      "cell_type": "code",
      "metadata": {
        "id": "qgopmQWkrDza"
      },
      "source": [
        "\"\"\"\n",
        "Below are all the imports and then creating the dataframe used for this assignment by scraping the provided website\n",
        "\"\"\"\n",
        "import requests\n",
        "from bs4 import BeautifulSoup\n",
        "import pandas as pd\n",
        "import numpy as np\n",
        "import io\n",
        "import matplotlib.pyplot as plt\n",
        "import math\n",
        "\n",
        "\n",
        "data_url = \"https://web.stanford.edu/~hastie/ElemStatLearn/datasets/prostate.data\"\n",
        "r = requests.get(data_url)\n",
        "data = BeautifulSoup(r.text, 'html.parser')\n",
        "data = data.prettify()\n",
        "data = io.StringIO(data)\n",
        "df = pd.read_csv(data, sep = \"\\t\")\n",
        "\n",
        "\n",
        "#This is just the rows that were trained\n",
        "#df_train = df.loc[df['train'] == \"T\"]\n",
        "#df_test = df.loc[df['train'] == \"F\"]\n",
        "\n",
        "#df_train = df[0:77]\n",
        "#df_test = df[78:87]\n",
        "\n",
        "df_train, df_validation, df_test = np.split(df.sample(frac=1, random_state=100), [int(.8*len(df)), int(.9*len(df))]) #lengths of 77, 10, 10 respectively\n",
        "\n",
        "\n",
        "#Isolating Y\n",
        "y_train = df_train[\"lpsa\"] \n",
        "y_validation = df_validation[\"lpsa\"]\n",
        "y_test = df_test[\"lpsa\"]\n",
        "\n",
        "#Isolating X\n",
        "x_train = df_train.drop(['lpsa', 'train'], axis=1) \n",
        "x_validation = df_validation.drop(['lpsa', 'train'], axis=1)\n",
        "x_test = df_test.drop(['lpsa', 'train'], axis=1)\n",
        "\n",
        "def standardization(x,val):\n",
        "  \"\"\"\n",
        "  Input is a pandas dataframe. For each column, normalizes it by x' = (x-mu)/sigma. val can be 1 (default arg of std()) which is sample, or 0 which is population. \n",
        "  Doing so results in mu = 0 and sigma = 1\n",
        "  \"\"\"\n",
        "  x = (x - x.mean())/x.std(ddof=val)\n",
        "  return(x)\n",
        "\n",
        "def rescaling(x):\n",
        "  \"\"\"\n",
        "  Input is a pandas dataframe. For each column, normalizes it by x' = (x-min(x))/(max(x)-min(x))\n",
        "  \"\"\"\n",
        "  x = (x - x.max())/(x.max() - x.min())\n",
        "  return(x)"
      ],
      "execution_count": null,
      "outputs": []
    },
    {
      "cell_type": "markdown",
      "metadata": {
        "id": "foha7LrgZDVQ"
      },
      "source": [
        "# Part A\n",
        "\n",
        "\n",
        "\n",
        "\n"
      ]
    },
    {
      "cell_type": "code",
      "metadata": {
        "id": "rAdRkkMMeujV",
        "colab": {
          "base_uri": "https://localhost:8080/",
          "height": 204
        },
        "outputId": "ba13c7d6-8108-403b-d07d-cb3fe8c2e932"
      },
      "source": [
        "def linreg(x,y):\n",
        "  \"\"\"\n",
        "  Returns coefficients of betas utilizing equation 3.6. Column of 1s is appended to X matrix\n",
        "  Beta_hat = ((X^T*X)^-1)*X^T*Y\n",
        "  \"\"\"\n",
        "  x = standardization(x,0) \n",
        "  x = x.to_numpy() \n",
        "  Y = y.to_numpy() \n",
        "  X = np.append(np.ones((x.shape[0],1)), x, axis = 1) #appends the columns of 1s to the beginning \n",
        "  beta = np.dot(np.dot(np.linalg.inv(np.dot(X.T, X)), X.T),Y) #follows equation 3.6\n",
        "  return(beta)\n",
        "\n",
        "beta = linreg(x_train,y_train)\n",
        "\n",
        "print(\"----------------------------------\")\n",
        "print(\"Using a linear regression on the training set, beta is: \\n\", beta)\n",
        "\n",
        "def v_j(x):\n",
        "  \"\"\"\n",
        "  Returns diagonal elements of (X^T*X)^-1\n",
        "  \"\"\"\n",
        "  x = standardization(x,0)  \n",
        "  x = x.to_numpy() \n",
        "  X = np.append(np.ones((x.shape[0],1)), x, axis = 1) #appends the columns of 1s to the beginning \n",
        "  return(np.diag(np.linalg.inv(np.dot(X.T, X))))\n",
        "\n",
        "diag_v = v_j(x_train)\n",
        "\n",
        "\n",
        "def prediction(x,y,x_train,y_train):\n",
        "  \"\"\"\n",
        "  inputs are pandas dataframe, returns the predicted outcome\n",
        "  x and y are what are being fitted compared to x_train and y_train, where coefficients of betas are found using x_train and y_train\n",
        "  \"\"\"\n",
        "  beta = linreg(x_train,y_train) #follows function above\n",
        "  x = standardization(x,0)  \n",
        "  x = x.to_numpy() \n",
        "  y = y.to_numpy()\n",
        "  Y_predicted = np.zeros(len(y)) #initialize\n",
        "  for i in range(0,len(y)):\n",
        "    Y_predicted[i] = beta[0] + np.dot(beta[1:], x[i][:])\n",
        "  return(Y_predicted)\n",
        "\n",
        "y_predicted = prediction(x_train,y_train,x_train,y_train)\n",
        "\n",
        "def sigma_hat(x,y_actual,y_predicted):\n",
        "  \"\"\"\n",
        "  Returns sigma_hat utilizing equation 3.8.\n",
        "  sigma_hat^2 = (1/(N-P-1))sum((y_actual-y_predicted)^2)\n",
        "  \"\"\"\n",
        "  N = x.shape[0]\n",
        "  p = x.shape[1]\n",
        "  sigma = math.sqrt((1/(N-p-1))*sum(np.square(y_predicted-y_actual)))\n",
        "  return(sigma)\n",
        "\n",
        "sigma = sigma_hat(x_train,y_train,y_predicted)\n",
        "\n",
        "def std_error(sigma_hat,v_j):\n",
        "  \"\"\"\n",
        "  denominator of Equation 3.12\n",
        "  standard error = sigma_hat*sqrt(v_j)\n",
        "  \"\"\"\n",
        "  std_err = np.zeros(len(v_j))\n",
        "  for i in range(len(v_j)):\n",
        "    std_err[i] = sigma_hat*math.sqrt(v_j[i])\n",
        "  return(std_err)\n",
        "\n",
        "standard_error = std_error(sigma,diag_v)\n",
        "print(\"------------------------------------\")\n",
        "print(\"The standard error of the training set is:\", standard_error)\n",
        "\n",
        "def zscore(beta,stderr):\n",
        "  \"\"\"\n",
        "  Returns z-score utilizing equation 3.12\n",
        "  z-score = beta/std_error\n",
        "  \"\"\"\n",
        "  if len(beta) != len(stderr):\n",
        "    raise(\"beta and standard error are not same lengths. you did something wrong\")\n",
        "  z = np.zeros(len(beta))\n",
        "  for i in range(len(beta)):\n",
        "    z[i] = beta[i]/stderr[i]\n",
        "  return(z)\n",
        "\n",
        "z_score = zscore(beta,standard_error)\n",
        "print(\"------------------------------------\")\n",
        "print(\"The z score of the training set is:\", z_score)\n",
        "print(\"------------------------------------\")\n",
        "\n",
        "#mse_baseline = np.mean(y_train)\n",
        "#print(f\"The MSE baseline is {mse_baseline}\")\n"
      ],
      "execution_count": null,
      "outputs": [
        {
          "output_type": "stream",
          "text": [
            "----------------------------------\n",
            "Using a linear regression on the training set, beta is: \n",
            " [ 2.53365201  0.66570697  0.24915442 -0.15085864  0.09985757  0.28295108\n",
            " -0.12263043  0.11125641  0.01785943]\n",
            "------------------------------------\n",
            "The standard error of the training set is: [0.08395831 0.12355997 0.09970014 0.09905759 0.09423509 0.1211806\n",
            " 0.14545394 0.13711369 0.14827292]\n",
            "------------------------------------\n",
            "The z score of the training set is: [30.17750208  5.38772373  2.49903786 -1.52293883  1.05966439  2.33495357\n",
            " -0.84308775  0.81141722  0.12044969]\n",
            "------------------------------------\n"
          ],
          "name": "stdout"
        }
      ]
    },
    {
      "cell_type": "markdown",
      "metadata": {
        "id": "A9hFONcsroc0"
      },
      "source": [
        "Replicated Table 3.1\n"
      ]
    },
    {
      "cell_type": "code",
      "metadata": {
        "id": "GMD8QhF4azu_",
        "colab": {
          "base_uri": "https://localhost:8080/",
          "height": 187
        },
        "outputId": "c1108f03-fb56-433d-819c-31714b3aa3d8"
      },
      "source": [
        "correlation = df_train.corr()\n",
        "correlation.drop([\"lcavol\", \"lpsa\"], axis=0, inplace=True) #removes unneeded rows\n",
        "correlation.drop([\"pgg45\", \"lpsa\"], axis=1, inplace=True) #removes unneeded columns\n",
        "correlation.style"
      ],
      "execution_count": null,
      "outputs": [
        {
          "output_type": "execute_result",
          "data": {
            "text/html": [
              "<style  type=\"text/css\" >\n",
              "</style><table id=\"T_3b4b63c0_f389_11ea_9fa3_0242ac1c0002\" ><thead>    <tr>        <th class=\"blank level0\" ></th>        <th class=\"col_heading level0 col0\" >lcavol</th>        <th class=\"col_heading level0 col1\" >lweight</th>        <th class=\"col_heading level0 col2\" >age</th>        <th class=\"col_heading level0 col3\" >lbph</th>        <th class=\"col_heading level0 col4\" >svi</th>        <th class=\"col_heading level0 col5\" >lcp</th>        <th class=\"col_heading level0 col6\" >gleason</th>    </tr></thead><tbody>\n",
              "                <tr>\n",
              "                        <th id=\"T_3b4b63c0_f389_11ea_9fa3_0242ac1c0002level0_row0\" class=\"row_heading level0 row0\" >lweight</th>\n",
              "                        <td id=\"T_3b4b63c0_f389_11ea_9fa3_0242ac1c0002row0_col0\" class=\"data row0 col0\" >0.284696</td>\n",
              "                        <td id=\"T_3b4b63c0_f389_11ea_9fa3_0242ac1c0002row0_col1\" class=\"data row0 col1\" >1.000000</td>\n",
              "                        <td id=\"T_3b4b63c0_f389_11ea_9fa3_0242ac1c0002row0_col2\" class=\"data row0 col2\" >0.378731</td>\n",
              "                        <td id=\"T_3b4b63c0_f389_11ea_9fa3_0242ac1c0002row0_col3\" class=\"data row0 col3\" >0.369874</td>\n",
              "                        <td id=\"T_3b4b63c0_f389_11ea_9fa3_0242ac1c0002row0_col4\" class=\"data row0 col4\" >0.195366</td>\n",
              "                        <td id=\"T_3b4b63c0_f389_11ea_9fa3_0242ac1c0002row0_col5\" class=\"data row0 col5\" >0.151733</td>\n",
              "                        <td id=\"T_3b4b63c0_f389_11ea_9fa3_0242ac1c0002row0_col6\" class=\"data row0 col6\" >0.039176</td>\n",
              "            </tr>\n",
              "            <tr>\n",
              "                        <th id=\"T_3b4b63c0_f389_11ea_9fa3_0242ac1c0002level0_row1\" class=\"row_heading level0 row1\" >age</th>\n",
              "                        <td id=\"T_3b4b63c0_f389_11ea_9fa3_0242ac1c0002row1_col0\" class=\"data row1 col0\" >0.300778</td>\n",
              "                        <td id=\"T_3b4b63c0_f389_11ea_9fa3_0242ac1c0002row1_col1\" class=\"data row1 col1\" >0.378731</td>\n",
              "                        <td id=\"T_3b4b63c0_f389_11ea_9fa3_0242ac1c0002row1_col2\" class=\"data row1 col2\" >1.000000</td>\n",
              "                        <td id=\"T_3b4b63c0_f389_11ea_9fa3_0242ac1c0002row1_col3\" class=\"data row1 col3\" >0.288108</td>\n",
              "                        <td id=\"T_3b4b63c0_f389_11ea_9fa3_0242ac1c0002row1_col4\" class=\"data row1 col4\" >0.148862</td>\n",
              "                        <td id=\"T_3b4b63c0_f389_11ea_9fa3_0242ac1c0002row1_col5\" class=\"data row1 col5\" >0.134785</td>\n",
              "                        <td id=\"T_3b4b63c0_f389_11ea_9fa3_0242ac1c0002row1_col6\" class=\"data row1 col6\" >0.265108</td>\n",
              "            </tr>\n",
              "            <tr>\n",
              "                        <th id=\"T_3b4b63c0_f389_11ea_9fa3_0242ac1c0002level0_row2\" class=\"row_heading level0 row2\" >lbph</th>\n",
              "                        <td id=\"T_3b4b63c0_f389_11ea_9fa3_0242ac1c0002row2_col0\" class=\"data row2 col0\" >-0.000003</td>\n",
              "                        <td id=\"T_3b4b63c0_f389_11ea_9fa3_0242ac1c0002row2_col1\" class=\"data row2 col1\" >0.369874</td>\n",
              "                        <td id=\"T_3b4b63c0_f389_11ea_9fa3_0242ac1c0002row2_col2\" class=\"data row2 col2\" >0.288108</td>\n",
              "                        <td id=\"T_3b4b63c0_f389_11ea_9fa3_0242ac1c0002row2_col3\" class=\"data row2 col3\" >1.000000</td>\n",
              "                        <td id=\"T_3b4b63c0_f389_11ea_9fa3_0242ac1c0002row2_col4\" class=\"data row2 col4\" >-0.102436</td>\n",
              "                        <td id=\"T_3b4b63c0_f389_11ea_9fa3_0242ac1c0002row2_col5\" class=\"data row2 col5\" >-0.075253</td>\n",
              "                        <td id=\"T_3b4b63c0_f389_11ea_9fa3_0242ac1c0002row2_col6\" class=\"data row2 col6\" >0.030587</td>\n",
              "            </tr>\n",
              "            <tr>\n",
              "                        <th id=\"T_3b4b63c0_f389_11ea_9fa3_0242ac1c0002level0_row3\" class=\"row_heading level0 row3\" >svi</th>\n",
              "                        <td id=\"T_3b4b63c0_f389_11ea_9fa3_0242ac1c0002row3_col0\" class=\"data row3 col0\" >0.549387</td>\n",
              "                        <td id=\"T_3b4b63c0_f389_11ea_9fa3_0242ac1c0002row3_col1\" class=\"data row3 col1\" >0.195366</td>\n",
              "                        <td id=\"T_3b4b63c0_f389_11ea_9fa3_0242ac1c0002row3_col2\" class=\"data row3 col2\" >0.148862</td>\n",
              "                        <td id=\"T_3b4b63c0_f389_11ea_9fa3_0242ac1c0002row3_col3\" class=\"data row3 col3\" >-0.102436</td>\n",
              "                        <td id=\"T_3b4b63c0_f389_11ea_9fa3_0242ac1c0002row3_col4\" class=\"data row3 col4\" >1.000000</td>\n",
              "                        <td id=\"T_3b4b63c0_f389_11ea_9fa3_0242ac1c0002row3_col5\" class=\"data row3 col5\" >0.689872</td>\n",
              "                        <td id=\"T_3b4b63c0_f389_11ea_9fa3_0242ac1c0002row3_col6\" class=\"data row3 col6\" >0.314327</td>\n",
              "            </tr>\n",
              "            <tr>\n",
              "                        <th id=\"T_3b4b63c0_f389_11ea_9fa3_0242ac1c0002level0_row4\" class=\"row_heading level0 row4\" >lcp</th>\n",
              "                        <td id=\"T_3b4b63c0_f389_11ea_9fa3_0242ac1c0002row4_col0\" class=\"data row4 col0\" >0.665034</td>\n",
              "                        <td id=\"T_3b4b63c0_f389_11ea_9fa3_0242ac1c0002row4_col1\" class=\"data row4 col1\" >0.151733</td>\n",
              "                        <td id=\"T_3b4b63c0_f389_11ea_9fa3_0242ac1c0002row4_col2\" class=\"data row4 col2\" >0.134785</td>\n",
              "                        <td id=\"T_3b4b63c0_f389_11ea_9fa3_0242ac1c0002row4_col3\" class=\"data row4 col3\" >-0.075253</td>\n",
              "                        <td id=\"T_3b4b63c0_f389_11ea_9fa3_0242ac1c0002row4_col4\" class=\"data row4 col4\" >0.689872</td>\n",
              "                        <td id=\"T_3b4b63c0_f389_11ea_9fa3_0242ac1c0002row4_col5\" class=\"data row4 col5\" >1.000000</td>\n",
              "                        <td id=\"T_3b4b63c0_f389_11ea_9fa3_0242ac1c0002row4_col6\" class=\"data row4 col6\" >0.496457</td>\n",
              "            </tr>\n",
              "            <tr>\n",
              "                        <th id=\"T_3b4b63c0_f389_11ea_9fa3_0242ac1c0002level0_row5\" class=\"row_heading level0 row5\" >gleason</th>\n",
              "                        <td id=\"T_3b4b63c0_f389_11ea_9fa3_0242ac1c0002row5_col0\" class=\"data row5 col0\" >0.441182</td>\n",
              "                        <td id=\"T_3b4b63c0_f389_11ea_9fa3_0242ac1c0002row5_col1\" class=\"data row5 col1\" >0.039176</td>\n",
              "                        <td id=\"T_3b4b63c0_f389_11ea_9fa3_0242ac1c0002row5_col2\" class=\"data row5 col2\" >0.265108</td>\n",
              "                        <td id=\"T_3b4b63c0_f389_11ea_9fa3_0242ac1c0002row5_col3\" class=\"data row5 col3\" >0.030587</td>\n",
              "                        <td id=\"T_3b4b63c0_f389_11ea_9fa3_0242ac1c0002row5_col4\" class=\"data row5 col4\" >0.314327</td>\n",
              "                        <td id=\"T_3b4b63c0_f389_11ea_9fa3_0242ac1c0002row5_col5\" class=\"data row5 col5\" >0.496457</td>\n",
              "                        <td id=\"T_3b4b63c0_f389_11ea_9fa3_0242ac1c0002row5_col6\" class=\"data row5 col6\" >1.000000</td>\n",
              "            </tr>\n",
              "            <tr>\n",
              "                        <th id=\"T_3b4b63c0_f389_11ea_9fa3_0242ac1c0002level0_row6\" class=\"row_heading level0 row6\" >pgg45</th>\n",
              "                        <td id=\"T_3b4b63c0_f389_11ea_9fa3_0242ac1c0002row6_col0\" class=\"data row6 col0\" >0.422314</td>\n",
              "                        <td id=\"T_3b4b63c0_f389_11ea_9fa3_0242ac1c0002row6_col1\" class=\"data row6 col1\" >0.084253</td>\n",
              "                        <td id=\"T_3b4b63c0_f389_11ea_9fa3_0242ac1c0002row6_col2\" class=\"data row6 col2\" >0.287054</td>\n",
              "                        <td id=\"T_3b4b63c0_f389_11ea_9fa3_0242ac1c0002row6_col3\" class=\"data row6 col3\" >-0.006495</td>\n",
              "                        <td id=\"T_3b4b63c0_f389_11ea_9fa3_0242ac1c0002row6_col4\" class=\"data row6 col4\" >0.465690</td>\n",
              "                        <td id=\"T_3b4b63c0_f389_11ea_9fa3_0242ac1c0002row6_col5\" class=\"data row6 col5\" >0.601927</td>\n",
              "                        <td id=\"T_3b4b63c0_f389_11ea_9fa3_0242ac1c0002row6_col6\" class=\"data row6 col6\" >0.766994</td>\n",
              "            </tr>\n",
              "    </tbody></table>"
            ],
            "text/plain": [
              "<pandas.io.formats.style.Styler at 0x7ff1dc835470>"
            ]
          },
          "metadata": {
            "tags": []
          },
          "execution_count": 3
        }
      ]
    },
    {
      "cell_type": "markdown",
      "metadata": {
        "id": "1oaGJIwN7i6q"
      },
      "source": [
        "Replicated Table 3.2\n"
      ]
    },
    {
      "cell_type": "code",
      "metadata": {
        "id": "4IFDl2ZC7je2",
        "colab": {
          "base_uri": "https://localhost:8080/",
          "height": 229
        },
        "outputId": "4a401b1c-c870-4274-ba05-4ae0f3bade86"
      },
      "source": [
        "table_3_2_rows = [\"Intercept\", \"lcavol\",\"lweight\", \"age\", \"lbph\", \"svi\", \"lcp\", \"gleason\", \"pgg45\"]\n",
        "\n",
        "table_3_2 = {\"Coefficient\": beta,\n",
        "            \"Std. Error\": standard_error,\n",
        "            \"Z Score\": z_score\n",
        "            }\n",
        "\n",
        "df_table_3_2 = pd.DataFrame(table_3_2, index=table_3_2_rows)\n",
        "df_table_3_2.style"
      ],
      "execution_count": null,
      "outputs": [
        {
          "output_type": "execute_result",
          "data": {
            "text/html": [
              "<style  type=\"text/css\" >\n",
              "</style><table id=\"T_3b4ef3e6_f389_11ea_9fa3_0242ac1c0002\" ><thead>    <tr>        <th class=\"blank level0\" ></th>        <th class=\"col_heading level0 col0\" >Coefficient</th>        <th class=\"col_heading level0 col1\" >Std. Error</th>        <th class=\"col_heading level0 col2\" >Z Score</th>    </tr></thead><tbody>\n",
              "                <tr>\n",
              "                        <th id=\"T_3b4ef3e6_f389_11ea_9fa3_0242ac1c0002level0_row0\" class=\"row_heading level0 row0\" >Intercept</th>\n",
              "                        <td id=\"T_3b4ef3e6_f389_11ea_9fa3_0242ac1c0002row0_col0\" class=\"data row0 col0\" >2.533652</td>\n",
              "                        <td id=\"T_3b4ef3e6_f389_11ea_9fa3_0242ac1c0002row0_col1\" class=\"data row0 col1\" >0.083958</td>\n",
              "                        <td id=\"T_3b4ef3e6_f389_11ea_9fa3_0242ac1c0002row0_col2\" class=\"data row0 col2\" >30.177502</td>\n",
              "            </tr>\n",
              "            <tr>\n",
              "                        <th id=\"T_3b4ef3e6_f389_11ea_9fa3_0242ac1c0002level0_row1\" class=\"row_heading level0 row1\" >lcavol</th>\n",
              "                        <td id=\"T_3b4ef3e6_f389_11ea_9fa3_0242ac1c0002row1_col0\" class=\"data row1 col0\" >0.665707</td>\n",
              "                        <td id=\"T_3b4ef3e6_f389_11ea_9fa3_0242ac1c0002row1_col1\" class=\"data row1 col1\" >0.123560</td>\n",
              "                        <td id=\"T_3b4ef3e6_f389_11ea_9fa3_0242ac1c0002row1_col2\" class=\"data row1 col2\" >5.387724</td>\n",
              "            </tr>\n",
              "            <tr>\n",
              "                        <th id=\"T_3b4ef3e6_f389_11ea_9fa3_0242ac1c0002level0_row2\" class=\"row_heading level0 row2\" >lweight</th>\n",
              "                        <td id=\"T_3b4ef3e6_f389_11ea_9fa3_0242ac1c0002row2_col0\" class=\"data row2 col0\" >0.249154</td>\n",
              "                        <td id=\"T_3b4ef3e6_f389_11ea_9fa3_0242ac1c0002row2_col1\" class=\"data row2 col1\" >0.099700</td>\n",
              "                        <td id=\"T_3b4ef3e6_f389_11ea_9fa3_0242ac1c0002row2_col2\" class=\"data row2 col2\" >2.499038</td>\n",
              "            </tr>\n",
              "            <tr>\n",
              "                        <th id=\"T_3b4ef3e6_f389_11ea_9fa3_0242ac1c0002level0_row3\" class=\"row_heading level0 row3\" >age</th>\n",
              "                        <td id=\"T_3b4ef3e6_f389_11ea_9fa3_0242ac1c0002row3_col0\" class=\"data row3 col0\" >-0.150859</td>\n",
              "                        <td id=\"T_3b4ef3e6_f389_11ea_9fa3_0242ac1c0002row3_col1\" class=\"data row3 col1\" >0.099058</td>\n",
              "                        <td id=\"T_3b4ef3e6_f389_11ea_9fa3_0242ac1c0002row3_col2\" class=\"data row3 col2\" >-1.522939</td>\n",
              "            </tr>\n",
              "            <tr>\n",
              "                        <th id=\"T_3b4ef3e6_f389_11ea_9fa3_0242ac1c0002level0_row4\" class=\"row_heading level0 row4\" >lbph</th>\n",
              "                        <td id=\"T_3b4ef3e6_f389_11ea_9fa3_0242ac1c0002row4_col0\" class=\"data row4 col0\" >0.099858</td>\n",
              "                        <td id=\"T_3b4ef3e6_f389_11ea_9fa3_0242ac1c0002row4_col1\" class=\"data row4 col1\" >0.094235</td>\n",
              "                        <td id=\"T_3b4ef3e6_f389_11ea_9fa3_0242ac1c0002row4_col2\" class=\"data row4 col2\" >1.059664</td>\n",
              "            </tr>\n",
              "            <tr>\n",
              "                        <th id=\"T_3b4ef3e6_f389_11ea_9fa3_0242ac1c0002level0_row5\" class=\"row_heading level0 row5\" >svi</th>\n",
              "                        <td id=\"T_3b4ef3e6_f389_11ea_9fa3_0242ac1c0002row5_col0\" class=\"data row5 col0\" >0.282951</td>\n",
              "                        <td id=\"T_3b4ef3e6_f389_11ea_9fa3_0242ac1c0002row5_col1\" class=\"data row5 col1\" >0.121181</td>\n",
              "                        <td id=\"T_3b4ef3e6_f389_11ea_9fa3_0242ac1c0002row5_col2\" class=\"data row5 col2\" >2.334954</td>\n",
              "            </tr>\n",
              "            <tr>\n",
              "                        <th id=\"T_3b4ef3e6_f389_11ea_9fa3_0242ac1c0002level0_row6\" class=\"row_heading level0 row6\" >lcp</th>\n",
              "                        <td id=\"T_3b4ef3e6_f389_11ea_9fa3_0242ac1c0002row6_col0\" class=\"data row6 col0\" >-0.122630</td>\n",
              "                        <td id=\"T_3b4ef3e6_f389_11ea_9fa3_0242ac1c0002row6_col1\" class=\"data row6 col1\" >0.145454</td>\n",
              "                        <td id=\"T_3b4ef3e6_f389_11ea_9fa3_0242ac1c0002row6_col2\" class=\"data row6 col2\" >-0.843088</td>\n",
              "            </tr>\n",
              "            <tr>\n",
              "                        <th id=\"T_3b4ef3e6_f389_11ea_9fa3_0242ac1c0002level0_row7\" class=\"row_heading level0 row7\" >gleason</th>\n",
              "                        <td id=\"T_3b4ef3e6_f389_11ea_9fa3_0242ac1c0002row7_col0\" class=\"data row7 col0\" >0.111256</td>\n",
              "                        <td id=\"T_3b4ef3e6_f389_11ea_9fa3_0242ac1c0002row7_col1\" class=\"data row7 col1\" >0.137114</td>\n",
              "                        <td id=\"T_3b4ef3e6_f389_11ea_9fa3_0242ac1c0002row7_col2\" class=\"data row7 col2\" >0.811417</td>\n",
              "            </tr>\n",
              "            <tr>\n",
              "                        <th id=\"T_3b4ef3e6_f389_11ea_9fa3_0242ac1c0002level0_row8\" class=\"row_heading level0 row8\" >pgg45</th>\n",
              "                        <td id=\"T_3b4ef3e6_f389_11ea_9fa3_0242ac1c0002row8_col0\" class=\"data row8 col0\" >0.017859</td>\n",
              "                        <td id=\"T_3b4ef3e6_f389_11ea_9fa3_0242ac1c0002row8_col1\" class=\"data row8 col1\" >0.148273</td>\n",
              "                        <td id=\"T_3b4ef3e6_f389_11ea_9fa3_0242ac1c0002row8_col2\" class=\"data row8 col2\" >0.120450</td>\n",
              "            </tr>\n",
              "    </tbody></table>"
            ],
            "text/plain": [
              "<pandas.io.formats.style.Styler at 0x7ff1d7033c18>"
            ]
          },
          "metadata": {
            "tags": []
          },
          "execution_count": 4
        }
      ]
    },
    {
      "cell_type": "markdown",
      "metadata": {
        "id": "Db0ohMW-BnN0"
      },
      "source": [
        "MSE On Test Dataset"
      ]
    },
    {
      "cell_type": "code",
      "metadata": {
        "id": "RlXMjHnwxp2G",
        "colab": {
          "base_uri": "https://localhost:8080/",
          "height": 51
        },
        "outputId": "147c50ae-84c1-48d3-ff2d-f6cda7e4ac3c"
      },
      "source": [
        "def MSE_linreg(x_test,y_test,x_train,y_train):\n",
        "  \"\"\"\n",
        "  inputs are pandas dataframe, returns the MSE\n",
        "  x_test and y_test are what are being fitted compared to x_train and y_train, where coefficients of betas were found\n",
        "  \"\"\"\n",
        "  beta = linreg(x_train,y_train) #follows function above\n",
        "  x_test = standardization(x_test,0) \n",
        "  x_test = x_test.to_numpy() #converts selected pandas df into numpy object\n",
        "  y_test = y_test.to_numpy() #converts selected pandas df into numpy object\n",
        "  Y_predicted = np.zeros(len(y_test)) #initialize\n",
        "  for i in range(0,len(y_test)):\n",
        "    Y_predicted[i] = beta[0] + np.dot(beta[1:], x_test[i][:])\n",
        "  mse = sum(np.square(Y_predicted-y_test))/len(y_test)\n",
        "  return(mse)\n",
        "\n",
        "print(\"---------\")\n",
        "print(\"The MSE of the test dataset is:\", MSE_linreg(x_test,y_test,x_train,y_train))"
      ],
      "execution_count": null,
      "outputs": [
        {
          "output_type": "stream",
          "text": [
            "---------\n",
            "The MSE of the test dataset is: 0.13912429966280027\n"
          ],
          "name": "stdout"
        }
      ]
    },
    {
      "cell_type": "markdown",
      "metadata": {
        "id": "WVcn4zkuBdu1"
      },
      "source": [
        "# Part B"
      ]
    },
    {
      "cell_type": "code",
      "metadata": {
        "id": "yXhsLhIejUMz",
        "colab": {
          "base_uri": "https://localhost:8080/",
          "height": 380
        },
        "outputId": "da3821bf-86fb-44bf-e140-71346ea87b84"
      },
      "source": [
        "def ridgereg(x,y,_lambda):\n",
        "  \"\"\"\n",
        "  Returns coefficients of betas based of Ridge Regression using Equation 3.44. If _lambda = 0, then it is just regular Linear Regression\n",
        "  Beta_hat = ((X^T*X)^-1)*X^T*Y\n",
        "\n",
        "  \"\"\"\n",
        "  #This is removing the first col of 1s\n",
        "  x = standardization(x,0) \n",
        "  x = x.to_numpy() #converts selected pandas df into numpy object\n",
        "  Y = y.to_numpy() #converts selected pandas df into numpy object\n",
        "  #X = np.append(np.ones((x.shape[0],1)), x, axis = 1) #appends the columns of 1s to the beginning \n",
        "  X = x\n",
        "  #beta = np.dot(np.dot(np.linalg.inv(np.dot(X.T, X)+_lambda*np.identity(x.shape[1]+1)), X.T),Y) #follows equation 3.44\n",
        "  beta = np.dot(np.dot(np.linalg.inv(np.dot(X.T, X)+_lambda*np.identity(x.shape[1])), X.T),Y) #follows equation 3.44, with columns of 1s not included\n",
        "  return(beta)\n",
        "\n",
        "\"\"\"\n",
        "#This includes the first col of 1s\n",
        "def ridgereg(x,y,_lambda):\n",
        "  inputs are pandas dataframe, returns coefficients of betas based of Ridge Regression. If _lambda = 0, then it is just regular Linear Regression\n",
        "  x = standardization(x,0) \n",
        "  x = x.to_numpy() #converts selected pandas df into numpy object\n",
        "  Y = y.to_numpy() #converts selected pandas df into numpy object\n",
        "  X = np.append(np.ones((x.shape[0],1)), x, axis = 1) #appends the columns of 1s to the beginning \n",
        "  beta = np.dot(np.dot(np.linalg.inv(np.dot(X.T, X)+_lambda*np.identity(x.shape[1]+1)), X.T),Y) #follows equation 3.44\n",
        "  return(beta)\n",
        "\"\"\"\n",
        "\n",
        "print(\"Using a ridge regression on the training set, beta is: \\n\", ridgereg(x_train,y_train,0))\n",
        "\n",
        "#Cross validation is on page 61\n",
        "\n",
        "def MSE_ridgereg(x_test,y_test,x_train,y_train,_lambda):\n",
        "  \"\"\"\n",
        "  inputs are pandas dataframe, returns the MSE\n",
        "  x_test and y_test are what are being fitted compared to x_train and y_train, where coefficients of betas were found\n",
        "  \"\"\"\n",
        "  beta = ridgereg(x_train,y_train,_lambda) #follows function above\n",
        "  x_test = standardization(x_test,0) \n",
        "  x_test = x_test.to_numpy() #converts selected pandas df into numpy object\n",
        "  y_test = y_test.to_numpy() #converts selected pandas df into numpy object\n",
        "  Y_predicted = np.zeros(len(y_test)) #initialize\n",
        "  for i in range(0,len(y_test)):\n",
        "    Y_predicted[i] = np.dot(beta[0:], x_test[i][:])\n",
        "    #Y_predicted[i] = beta[0] + np.dot(beta[1:], x_test[i][:]) ############## DO I NEED TO FIT RIDGE REG THROUGH ORIGIN???\n",
        "  Y_actual_average = y_train.mean() ######################################## DO I NEED TO USE MEAN OF Y_ACTUAL AS NEW INTERCEPT???\n",
        "  #mse = sum(np.square(Y_predicted-y_test))/len(y_test)\n",
        "  mse = sum(np.square(Y_predicted+Y_actual_average-y_test))/len(y_test)\n",
        "  return(mse)\n",
        "\n",
        "ridge_lambda_array = np.linspace(0,100,200) \n",
        "ridge_MSE_array = np.zeros(len(ridge_lambda_array)) #initialize\n",
        "\n",
        "#Right now, it's testing with the training and test, not validation and test as Keene wants it\n",
        "\"\"\"\n",
        "SO COME BACK TO THIS LATER\n",
        "\"\"\"\n",
        "for i in range(len(ridge_lambda_array)):\n",
        "  ridge_MSE_array[i] = MSE_ridgereg(x_validation,y_validation,x_train,y_train,ridge_lambda_array[i])\n",
        "\n",
        "#print(ridge_MSE_array)\n",
        "#print(lambda_array[np.argmin(ridge_MSE_array)]) #returns value in lambda_array where the minimum in the MSE_array occured\n",
        "\n",
        "print(f\"The optimal lambda I found using the validation set is {ridge_lambda_array[np.argmin(ridge_MSE_array)]}\")\n",
        "print(f\"At this optimal lambda, the MSE on the test set is {MSE_ridgereg(x_test,y_test,x_train,y_train,_lambda=ridge_lambda_array[np.argmin(ridge_MSE_array)])}\")\n",
        "\n",
        "plt.plot(ridge_lambda_array,ridge_MSE_array,linestyle='--', marker='o')\n",
        "plt.axvline(x=ridge_lambda_array[np.argmin(ridge_MSE_array)],linestyle='--') #plots value in lambda_array where the minimum in the MSE_array occured\n",
        "plt.title(\"Determining Optimal λ Based off MSE for Ridge\")\n",
        "plt.xlabel(\"λ\")\n",
        "plt.ylabel(\"MSE\")\n",
        "plt.show()"
      ],
      "execution_count": null,
      "outputs": [
        {
          "output_type": "stream",
          "text": [
            "Using a ridge regression on the training set, beta is: \n",
            " [ 0.66570697  0.24915442 -0.15085864  0.09985757  0.28295108 -0.12263043\n",
            "  0.11125641  0.01785943]\n",
            "The optimal lambda I found using the validation set is 1.507537688442211\n",
            "At this optimal lambda, the MSE on the test set is 0.13992840701700798\n"
          ],
          "name": "stdout"
        },
        {
          "output_type": "display_data",
          "data": {
            "image/png": "[encoded data removed]",
            "text/plain": [
              "<Figure size 432x288 with 1 Axes>"
            ]
          },
          "metadata": {
            "tags": [],
            "needs_background": "light"
          }
        }
      ]
    },
    {
      "cell_type": "markdown",
      "metadata": {
        "id": "cV3mTh3EP6Z4"
      },
      "source": [
        "Replicated Figure 3.8"
      ]
    },
    {
      "cell_type": "code",
      "metadata": {
        "id": "EXNEI8HuP6A-",
        "colab": {
          "base_uri": "https://localhost:8080/",
          "height": 312
        },
        "outputId": "625b5b6b-3a1f-43dc-a4aa-659acf921868"
      },
      "source": [
        "ridge_lambda_array = np.linspace(0,100,200) \n",
        "ridge_beta = np.zeros((len(ridge_lambda_array),8))\n",
        "columns_label = df.columns\n",
        "\n",
        "for i in range(len(ridge_lambda_array)):\n",
        "  #ridge_beta[i] = ridgereg(x_train,y_train,ridge_lambda_array[i])[1:] #this is including the columns of 1s\n",
        "  ridge_beta[i] = ridgereg(x_train,y_train,ridge_lambda_array[i])[0:]\n",
        "\n",
        "for i in range(ridge_beta.shape[1]):\n",
        "  x = ridge_beta[:,i]\n",
        "  plt.plot(ridge_lambda_array,x,label=columns_label[i],linestyle='--', marker='o')\n",
        "\n",
        "plt.axvline(x=ridge_lambda_array[np.argmin(ridge_MSE_array)],linestyle='--')\n",
        "plt.title(\"Ridge Coefficients vs λ\")\n",
        "plt.legend(loc=\"right\",bbox_to_anchor=(1.25, 0.5))\n",
        "plt.xlabel(\"λ\")\n",
        "plt.ylabel(\"β\")"
      ],
      "execution_count": null,
      "outputs": [
        {
          "output_type": "execute_result",
          "data": {
            "text/plain": [
              "Text(0, 0.5, 'β')"
            ]
          },
          "metadata": {
            "tags": []
          },
          "execution_count": 7
        },
        {
          "output_type": "display_data",
          "data": {
            "image/png": "[encoded data removed]",
            "text/plain": [
              "<Figure size 432x288 with 1 Axes>"
            ]
          },
          "metadata": {
            "tags": [],
            "needs_background": "light"
          }
        }
      ]
    },
    {
      "cell_type": "markdown",
      "metadata": {
        "id": "C6UeF0ONIT89"
      },
      "source": [
        "# Part C"
      ]
    },
    {
      "cell_type": "code",
      "metadata": {
        "id": "FzUtNC4Fo3HY",
        "colab": {
          "base_uri": "https://localhost:8080/",
          "height": 624
        },
        "outputId": "507eb64d-234e-44ba-ad62-42ba3951e09f"
      },
      "source": [
        "from sklearn.linear_model import Lasso\n",
        "from sklearn.metrics import mean_squared_error\n",
        "from sklearn.preprocessing import StandardScaler\n",
        "from sklearn.preprocessing import MinMaxScaler\n",
        "\n",
        "\n",
        "columns_label = df.columns\n",
        "lasso_lambda_array = np.linspace(0.01,1,100) #excluding where lambda = 0 as there is a suggestion NOT to use it since using regular Linear Regression is better\n",
        "lasso_MSE_array = np.zeros(len(lasso_lambda_array))\n",
        "\n",
        "\n",
        "#This for loop fits the validation set to the training set\n",
        "for i in range(len(lasso_lambda_array)):\n",
        "  lasso = Lasso(alpha=lasso_lambda_array[i]) #fit_intercept = 0\n",
        "  \n",
        "  ss1 = StandardScaler()\n",
        "  ss2 = StandardScaler()\n",
        "  x_train = ss1.fit_transform(x_train)\n",
        "  x_validation = ss2.fit_transform(x_validation)\n",
        "\n",
        "  lasso.fit(x_train,y_train)\n",
        "  y_predicted = lasso.predict(x_validation)\n",
        "  lasso_MSE_array[i] = mean_squared_error(y_predicted,y_validation) \n",
        "\n",
        "#This is my optimal lambda from the for loop right above\n",
        "optimal_lambda = lasso_lambda_array[np.argmin(lasso_MSE_array)]\n",
        "\n",
        "print(f\"The optimal lambda I found using the validation set is {optimal_lambda}\")\n",
        "\n",
        "#This function determines the MSE of the test set using the training set and the optimal lambda\n",
        "def msebestlambdavalidation(x_test,y_test,x_train,y_train,_lambda):\n",
        "  lasso = Lasso(alpha=_lambda)\n",
        "  ss1 = StandardScaler()\n",
        "  ss2 = StandardScaler()\n",
        "\n",
        "  x_train = ss1.fit_transform(x_train)\n",
        "  x_test = ss2.fit_transform(x_test)\n",
        "\n",
        "  lasso.fit(x_train,y_train)\n",
        "  y_predicted = lasso.predict(x_test)\n",
        "  mse = mean_squared_error(y_predicted,y_test)\n",
        "  return(mse)\n",
        "\n",
        "print(f\"At this optimal lambda, the MSE on the test set is {msebestlambdavalidation(x_test,y_test,x_train,y_train,optimal_lambda)}\")\n",
        "\n",
        "\n",
        "plt.plot(lasso_lambda_array,lasso_MSE_array,linestyle='--', marker='o')\n",
        "plt.axvline(x=optimal_lambda,linestyle='--')\n",
        "plt.title(\"Determining Optimal λ Based off MSE for Lasso\")\n",
        "optimal_lambda_rounded = round(optimal_lambda,2)\n",
        "plt.text(optimal_lambda,1,f\" λ={optimal_lambda_rounded}\")\n",
        "\n",
        "#plt.legend(loc=\"right\",bbox_to_anchor=(1.25, 0.5))\n",
        "plt.xlabel(\"λ\")\n",
        "plt.ylabel(\"MSE\")\n",
        "plt.show()\n",
        "\n",
        "\n",
        "\n",
        "#Lasso vs Lambda\n",
        "empty = np.zeros((len(lasso_lambda_array),8))\n",
        "\n",
        "for i in range(len(lasso_lambda_array)):\n",
        "  lasso = Lasso(alpha=lasso_lambda_array[i])\n",
        "  scaler = StandardScaler()\n",
        "  scaled_x = scaler.fit_transform(x_train)\n",
        "  scaled_x = rescaling(x_train)\n",
        "\n",
        "  lasso.fit(scaled_x,y_train)\n",
        "  empty[i] = lasso.coef_\n",
        "\n",
        "\n",
        "for i in range(empty.shape[1]):\n",
        "  #x = empty[0:(len(lasso_lambda_array)-80),i]\n",
        "  #plt.plot(lasso_lambda_array[0:(len(lasso_lambda_array)-80)],x,label=columns_label[i])\n",
        "  x = empty[:,i]\n",
        "  plt.plot(lasso_lambda_array,x,label=columns_label[i])\n",
        "\n",
        "plt.axvline(x=optimal_lambda,linestyle='--')\n",
        "plt.title(\"Lasso Coefficients vs λ\")\n",
        "plt.legend(loc=\"right\",bbox_to_anchor=(1.25, 0.5))\n",
        "plt.xlabel(\"λ\")\n",
        "plt.ylabel(\"MSE\")"
      ],
      "execution_count": null,
      "outputs": [
        {
          "output_type": "stream",
          "text": [
            "The optimal lambda I found using the validation set is 0.01\n",
            "At this optimal lambda, the MSE on the test set is 0.15035299365363292\n"
          ],
          "name": "stdout"
        },
        {
          "output_type": "display_data",
          "data": {
            "image/png": "[encoded data removed]",
            "text/plain": [
              "<Figure size 432x288 with 1 Axes>"
            ]
          },
          "metadata": {
            "tags": [],
            "needs_background": "light"
          }
        },
        {
          "output_type": "execute_result",
          "data": {
            "text/plain": [
              "Text(0, 0.5, 'MSE')"
            ]
          },
          "metadata": {
            "tags": []
          },
          "execution_count": 8
        },
        {
          "output_type": "display_data",
          "data": {
            "image/png": "[encoded data removed]",
            "text/plain": [
              "<Figure size 432x288 with 1 Axes>"
            ]
          },
          "metadata": {
            "tags": [],
            "needs_background": "light"
          }
        }
      ]
    },
    {
      "cell_type": "markdown",
      "metadata": {
        "id": "HFVlVRX_Bb23"
      },
      "source": [
        "# Selecting My Own Dataset"
      ]
    },
    {
      "cell_type": "code",
      "metadata": {
        "id": "NOFP840hBkVV"
      },
      "source": [
        "import pandas as pd\n",
        "import numpy as np\n",
        "import math\n",
        "import matplotlib.pyplot as plt\n",
        "\n",
        "#http://archive.ics.uci.edu/ml/datasets/Concrete+Compressive+Strength\n",
        "\n",
        "\"\"\"\n",
        "Cement (component 1) -- quantitative -- kg in a m3 mixture -- Input Variable\n",
        "Blast Furnace Slag (component 2) -- quantitative -- kg in a m3 mixture -- Input Variable\n",
        "Fly Ash (component 3) -- quantitative -- kg in a m3 mixture -- Input Variable\n",
        "Water (component 4) -- quantitative -- kg in a m3 mixture -- Input Variable\n",
        "Superplasticizer (component 5) -- quantitative -- kg in a m3 mixture -- Input Variable\n",
        "Coarse Aggregate (component 6) -- quantitative -- kg in a m3 mixture -- Input Variable\n",
        "Fine Aggregate (component 7) -- quantitative -- kg in a m3 mixture -- Input Variable\n",
        "Age -- quantitative -- Day (1~365) -- Input Variable\n",
        "Concrete compressive strength -- quantitative -- MPa -- Output Variable\n",
        "\"\"\"\n",
        "\n",
        "df = pd.read_excel(\"Concrete_Data.xls\")\n",
        "\n",
        "df_train, df_validation, df_test = np.split(df.sample(frac=1, random_state=10), [int(.8*len(df)), int(.9*len(df))]) #lengths of 824, 103, 103 respectively\n",
        "\n",
        "\n",
        "#input = \"Age (day)\"\n",
        "#plt.scatter(df[input],df[output], marker='o')\n",
        "#plt.show()\n",
        "\n",
        "output = \"Concrete compressive strength\" #this is just the output column. I renamed the actual columns since some had an extremely high character count\n",
        "\n",
        "#Isolating Y (+2)\n",
        "y_train = df_train[output] \n",
        "y_validation = df_validation[output]\n",
        "y_test = df_test[output]\n",
        "\n",
        "#Isolating X (+2)\n",
        "x_train = df_train.drop([output], axis=1) \n",
        "x_validation = df_validation.drop([output], axis=1)\n",
        "x_test = df_test.drop([output], axis=1)\n",
        "\n",
        "\n",
        "def standardization(x,val):\n",
        "  \"\"\"\n",
        "  Input is a pandas dataframe. For each column, standardizes it by x' = (x-mu)/sigma. val can be 1 (default arg of std()) which is sample, or 0 which is population. \n",
        "  Doing so results in mu = 0 and sigma = 1\n",
        "  \"\"\"\n",
        "  x = (x - x.mean())/x.std(ddof=val)\n",
        "  return(x)\n",
        "\n",
        "\n",
        "def rescaling(x):\n",
        "  x = (x - x.max())/(x.max() - x.min())\n",
        "  return(x)"
      ],
      "execution_count": null,
      "outputs": []
    },
    {
      "cell_type": "markdown",
      "metadata": {
        "id": "OyP7MEmzMvzE"
      },
      "source": [
        "#Part A\n"
      ]
    },
    {
      "cell_type": "code",
      "metadata": {
        "id": "ARnsa2VgM-ek",
        "colab": {
          "base_uri": "https://localhost:8080/",
          "height": 221
        },
        "outputId": "bf437c7a-3c58-42ee-c83b-517167c075dc"
      },
      "source": [
        "def linreg(x,y):\n",
        "  \"\"\"\n",
        "  Returns coefficients of betas utilizing equation 3.6. Column of 1s is appended to X matrix\n",
        "  Beta_hat = ((X^T*X)^-1)*X^T*Y\n",
        "  \"\"\"\n",
        "  x = standardization(x,0) \n",
        "  x = x.to_numpy() #converts selected pandas df into numpy object\n",
        "  Y = y.to_numpy() \n",
        "  X = np.append(np.ones((x.shape[0],1)), x, axis = 1) #appends the columns of 1s to the beginning \n",
        "  beta = np.dot(np.dot(np.linalg.inv(np.dot(X.T, X)), X.T),Y) #follows equation 3.6\n",
        "  return(beta)\n",
        "\n",
        "beta = linreg(x_train,y_train)\n",
        "\n",
        "print(\"----------------------------------\")\n",
        "print(\"Using a linear regression, beta is: \\n\", beta)\n",
        "\n",
        "def v_j(x):\n",
        "  \"\"\"\n",
        "  Returns diagonal elements of (X^T*X)^-1\n",
        "  \"\"\"\n",
        "  x = standardization(x,0)  \n",
        "  x = x.to_numpy() \n",
        "  X = np.append(np.ones((x.shape[0],1)), x, axis = 1) #appends the columns of 1s to the beginning \n",
        "  return(np.diag(np.linalg.inv(np.dot(X.T, X))))\n",
        "\n",
        "diag_v = v_j(x_train)\n",
        "\n",
        "\n",
        "def prediction(x,y,x_train,y_train):\n",
        "  \"\"\"\n",
        "  inputs are pandas dataframe, returns the predicted outcome\n",
        "  x and y are what are being fitted compared to x_train and y_train, where coefficients of betas are found using x_train and y_train\n",
        "  \"\"\"\n",
        "  beta = linreg(x_train,y_train) #follows function above\n",
        "  x = standardization(x,0)  \n",
        "  x = x.to_numpy() #converts selected pandas df into numpy object\n",
        "  y = y.to_numpy() #converts selected pandas df into numpy object\n",
        "  Y_predicted = np.zeros(len(y)) #initialize\n",
        "  for i in range(0,len(y)):\n",
        "    Y_predicted[i] = beta[0] + np.dot(beta[1:], x[i][:])\n",
        "  return(Y_predicted)\n",
        "\n",
        "y_predicted = prediction(x_train,y_train,x_train,y_train)\n",
        "\n",
        "def sigma_hat(x,y_actual,y_predicted):\n",
        "  \"\"\"\n",
        "  Returns sigma_hat utilizing equation 3.8.\n",
        "  sigma_hat^2 = (1/(N-P-1))sum((y_actual-y_predicted)^2)\n",
        "  \"\"\"\n",
        "  N = x.shape[0]\n",
        "  p = x.shape[1]\n",
        "  sigma = math.sqrt((1/(N-p-1))*sum(np.square(y_predicted-y_actual)))\n",
        "  return(sigma)\n",
        "\n",
        "sigma = sigma_hat(x_train,y_train,y_predicted)\n",
        "\n",
        "def std_error(sigma_hat,v_j):\n",
        "  \"\"\"\n",
        "  denominator of Equation 3.12\n",
        "  standard error = sigma_hat*sqrt(v_j)\n",
        "  \"\"\"\n",
        "  std_err = np.zeros(len(v_j))\n",
        "  for i in range(len(v_j)):\n",
        "    std_err[i] = sigma_hat*math.sqrt(v_j[i])\n",
        "  return(std_err)\n",
        "\n",
        "standard_error = std_error(sigma,diag_v)\n",
        "print(\"------------------------------------\")\n",
        "print(\"The standard error of the training set is:\", standard_error)\n",
        "\n",
        "def zscore(beta,stderr):\n",
        "  \"\"\"\n",
        "  Returns z-score utilizing equation 3.12\n",
        "  z-score = beta/std_error\n",
        "  \"\"\"\n",
        "  if len(beta) != len(stderr):\n",
        "    raise(\"beta and standard error are not same lengths. you did something wrong\")\n",
        "  z = np.zeros(len(beta))\n",
        "  for i in range(len(beta)):\n",
        "    z[i] = beta[i]/stderr[i]\n",
        "  return(z)\n",
        "\n",
        "z_score = zscore(beta,standard_error)\n",
        "print(\"------------------------------------\")\n",
        "print(\"The z score of the training set is:\", z_score)\n",
        "print(\"------------------------------------\")\n",
        "\n",
        "\n",
        "mse_baseline = np.mean(y_train)\n",
        "print(f\"The MSE baseline is {mse_baseline}\")"
      ],
      "execution_count": null,
      "outputs": [
        {
          "output_type": "stream",
          "text": [
            "----------------------------------\n",
            "Using a linear regression, beta is: \n",
            " [36.06190397 13.06039082  9.51089148  5.98048364 -2.93851737  1.78800161\n",
            "  1.54107659  2.0247028   7.06046607]\n",
            "------------------------------------\n",
            "The standard error of the training set is: [0.36113715 0.97933657 0.97996366 0.90039684 0.95129025 0.60706165\n",
            " 0.80696813 0.92989132 0.38483226]\n",
            "------------------------------------\n",
            "The z score of the training set is: [99.85653365 13.33595746  9.70535117  6.64205311 -3.08898084  2.94533778\n",
            "  1.90971185  2.17735424 18.34686665]\n",
            "------------------------------------\n",
            "The MSE baseline is 36.061903970870596\n"
          ],
          "name": "stdout"
        }
      ]
    },
    {
      "cell_type": "code",
      "metadata": {
        "id": "6vjGkDL5zQeR",
        "colab": {
          "base_uri": "https://localhost:8080/",
          "height": 208
        },
        "outputId": "f86e8016-d102-4988-f5cd-60c12bc252d2"
      },
      "source": [
        "correlation = df_train.corr()\n",
        "correlation.drop([\"Concrete compressive strength\"], axis=0, inplace=True) #removes unneeded rows\n",
        "correlation.drop([\"Concrete compressive strength\"], axis=1, inplace=True) #removes unneeded columns\n",
        "correlation.style"
      ],
      "execution_count": null,
      "outputs": [
        {
          "output_type": "execute_result",
          "data": {
            "text/html": [
              "<style  type=\"text/css\" >\n",
              "</style><table id=\"T_407b3320_f389_11ea_9fa3_0242ac1c0002\" ><thead>    <tr>        <th class=\"blank level0\" ></th>        <th class=\"col_heading level0 col0\" >Cement</th>        <th class=\"col_heading level0 col1\" >Blast Furnace Slag</th>        <th class=\"col_heading level0 col2\" >Fly Ash</th>        <th class=\"col_heading level0 col3\" >Water</th>        <th class=\"col_heading level0 col4\" >Superplasticizer</th>        <th class=\"col_heading level0 col5\" >Coarse Aggregate</th>        <th class=\"col_heading level0 col6\" >Fine Aggregate</th>        <th class=\"col_heading level0 col7\" >Age</th>    </tr></thead><tbody>\n",
              "                <tr>\n",
              "                        <th id=\"T_407b3320_f389_11ea_9fa3_0242ac1c0002level0_row0\" class=\"row_heading level0 row0\" >Cement</th>\n",
              "                        <td id=\"T_407b3320_f389_11ea_9fa3_0242ac1c0002row0_col0\" class=\"data row0 col0\" >1.000000</td>\n",
              "                        <td id=\"T_407b3320_f389_11ea_9fa3_0242ac1c0002row0_col1\" class=\"data row0 col1\" >-0.265262</td>\n",
              "                        <td id=\"T_407b3320_f389_11ea_9fa3_0242ac1c0002row0_col2\" class=\"data row0 col2\" >-0.415598</td>\n",
              "                        <td id=\"T_407b3320_f389_11ea_9fa3_0242ac1c0002row0_col3\" class=\"data row0 col3\" >-0.085207</td>\n",
              "                        <td id=\"T_407b3320_f389_11ea_9fa3_0242ac1c0002row0_col4\" class=\"data row0 col4\" >0.090049</td>\n",
              "                        <td id=\"T_407b3320_f389_11ea_9fa3_0242ac1c0002row0_col5\" class=\"data row0 col5\" >-0.139109</td>\n",
              "                        <td id=\"T_407b3320_f389_11ea_9fa3_0242ac1c0002row0_col6\" class=\"data row0 col6\" >-0.182460</td>\n",
              "                        <td id=\"T_407b3320_f389_11ea_9fa3_0242ac1c0002row0_col7\" class=\"data row0 col7\" >0.077356</td>\n",
              "            </tr>\n",
              "            <tr>\n",
              "                        <th id=\"T_407b3320_f389_11ea_9fa3_0242ac1c0002level0_row1\" class=\"row_heading level0 row1\" >Blast Furnace Slag</th>\n",
              "                        <td id=\"T_407b3320_f389_11ea_9fa3_0242ac1c0002row1_col0\" class=\"data row1 col0\" >-0.265262</td>\n",
              "                        <td id=\"T_407b3320_f389_11ea_9fa3_0242ac1c0002row1_col1\" class=\"data row1 col1\" >1.000000</td>\n",
              "                        <td id=\"T_407b3320_f389_11ea_9fa3_0242ac1c0002row1_col2\" class=\"data row1 col2\" >-0.329909</td>\n",
              "                        <td id=\"T_407b3320_f389_11ea_9fa3_0242ac1c0002row1_col3\" class=\"data row1 col3\" >0.102419</td>\n",
              "                        <td id=\"T_407b3320_f389_11ea_9fa3_0242ac1c0002row1_col4\" class=\"data row1 col4\" >0.051917</td>\n",
              "                        <td id=\"T_407b3320_f389_11ea_9fa3_0242ac1c0002row1_col5\" class=\"data row1 col5\" >-0.268591</td>\n",
              "                        <td id=\"T_407b3320_f389_11ea_9fa3_0242ac1c0002row1_col6\" class=\"data row1 col6\" >-0.314281</td>\n",
              "                        <td id=\"T_407b3320_f389_11ea_9fa3_0242ac1c0002row1_col7\" class=\"data row1 col7\" >-0.037387</td>\n",
              "            </tr>\n",
              "            <tr>\n",
              "                        <th id=\"T_407b3320_f389_11ea_9fa3_0242ac1c0002level0_row2\" class=\"row_heading level0 row2\" >Fly Ash</th>\n",
              "                        <td id=\"T_407b3320_f389_11ea_9fa3_0242ac1c0002row2_col0\" class=\"data row2 col0\" >-0.415598</td>\n",
              "                        <td id=\"T_407b3320_f389_11ea_9fa3_0242ac1c0002row2_col1\" class=\"data row2 col1\" >-0.329909</td>\n",
              "                        <td id=\"T_407b3320_f389_11ea_9fa3_0242ac1c0002row2_col2\" class=\"data row2 col2\" >1.000000</td>\n",
              "                        <td id=\"T_407b3320_f389_11ea_9fa3_0242ac1c0002row2_col3\" class=\"data row2 col3\" >-0.241506</td>\n",
              "                        <td id=\"T_407b3320_f389_11ea_9fa3_0242ac1c0002row2_col4\" class=\"data row2 col4\" >0.358671</td>\n",
              "                        <td id=\"T_407b3320_f389_11ea_9fa3_0242ac1c0002row2_col5\" class=\"data row2 col5\" >-0.014074</td>\n",
              "                        <td id=\"T_407b3320_f389_11ea_9fa3_0242ac1c0002row2_col6\" class=\"data row2 col6\" >0.094476</td>\n",
              "                        <td id=\"T_407b3320_f389_11ea_9fa3_0242ac1c0002row2_col7\" class=\"data row2 col7\" >-0.172703</td>\n",
              "            </tr>\n",
              "            <tr>\n",
              "                        <th id=\"T_407b3320_f389_11ea_9fa3_0242ac1c0002level0_row3\" class=\"row_heading level0 row3\" >Water</th>\n",
              "                        <td id=\"T_407b3320_f389_11ea_9fa3_0242ac1c0002row3_col0\" class=\"data row3 col0\" >-0.085207</td>\n",
              "                        <td id=\"T_407b3320_f389_11ea_9fa3_0242ac1c0002row3_col1\" class=\"data row3 col1\" >0.102419</td>\n",
              "                        <td id=\"T_407b3320_f389_11ea_9fa3_0242ac1c0002row3_col2\" class=\"data row3 col2\" >-0.241506</td>\n",
              "                        <td id=\"T_407b3320_f389_11ea_9fa3_0242ac1c0002row3_col3\" class=\"data row3 col3\" >1.000000</td>\n",
              "                        <td id=\"T_407b3320_f389_11ea_9fa3_0242ac1c0002row3_col4\" class=\"data row3 col4\" >-0.648022</td>\n",
              "                        <td id=\"T_407b3320_f389_11ea_9fa3_0242ac1c0002row3_col5\" class=\"data row3 col5\" >-0.193223</td>\n",
              "                        <td id=\"T_407b3320_f389_11ea_9fa3_0242ac1c0002row3_col6\" class=\"data row3 col6\" >-0.466629</td>\n",
              "                        <td id=\"T_407b3320_f389_11ea_9fa3_0242ac1c0002row3_col7\" class=\"data row3 col7\" >0.293418</td>\n",
              "            </tr>\n",
              "            <tr>\n",
              "                        <th id=\"T_407b3320_f389_11ea_9fa3_0242ac1c0002level0_row4\" class=\"row_heading level0 row4\" >Superplasticizer</th>\n",
              "                        <td id=\"T_407b3320_f389_11ea_9fa3_0242ac1c0002row4_col0\" class=\"data row4 col0\" >0.090049</td>\n",
              "                        <td id=\"T_407b3320_f389_11ea_9fa3_0242ac1c0002row4_col1\" class=\"data row4 col1\" >0.051917</td>\n",
              "                        <td id=\"T_407b3320_f389_11ea_9fa3_0242ac1c0002row4_col2\" class=\"data row4 col2\" >0.358671</td>\n",
              "                        <td id=\"T_407b3320_f389_11ea_9fa3_0242ac1c0002row4_col3\" class=\"data row4 col3\" >-0.648022</td>\n",
              "                        <td id=\"T_407b3320_f389_11ea_9fa3_0242ac1c0002row4_col4\" class=\"data row4 col4\" >1.000000</td>\n",
              "                        <td id=\"T_407b3320_f389_11ea_9fa3_0242ac1c0002row4_col5\" class=\"data row4 col5\" >-0.260532</td>\n",
              "                        <td id=\"T_407b3320_f389_11ea_9fa3_0242ac1c0002row4_col6\" class=\"data row4 col6\" >0.227558</td>\n",
              "                        <td id=\"T_407b3320_f389_11ea_9fa3_0242ac1c0002row4_col7\" class=\"data row4 col7\" >-0.199730</td>\n",
              "            </tr>\n",
              "            <tr>\n",
              "                        <th id=\"T_407b3320_f389_11ea_9fa3_0242ac1c0002level0_row5\" class=\"row_heading level0 row5\" >Coarse Aggregate</th>\n",
              "                        <td id=\"T_407b3320_f389_11ea_9fa3_0242ac1c0002row5_col0\" class=\"data row5 col0\" >-0.139109</td>\n",
              "                        <td id=\"T_407b3320_f389_11ea_9fa3_0242ac1c0002row5_col1\" class=\"data row5 col1\" >-0.268591</td>\n",
              "                        <td id=\"T_407b3320_f389_11ea_9fa3_0242ac1c0002row5_col2\" class=\"data row5 col2\" >-0.014074</td>\n",
              "                        <td id=\"T_407b3320_f389_11ea_9fa3_0242ac1c0002row5_col3\" class=\"data row5 col3\" >-0.193223</td>\n",
              "                        <td id=\"T_407b3320_f389_11ea_9fa3_0242ac1c0002row5_col4\" class=\"data row5 col4\" >-0.260532</td>\n",
              "                        <td id=\"T_407b3320_f389_11ea_9fa3_0242ac1c0002row5_col5\" class=\"data row5 col5\" >1.000000</td>\n",
              "                        <td id=\"T_407b3320_f389_11ea_9fa3_0242ac1c0002row5_col6\" class=\"data row5 col6\" >-0.148943</td>\n",
              "                        <td id=\"T_407b3320_f389_11ea_9fa3_0242ac1c0002row5_col7\" class=\"data row5 col7\" >-0.033404</td>\n",
              "            </tr>\n",
              "            <tr>\n",
              "                        <th id=\"T_407b3320_f389_11ea_9fa3_0242ac1c0002level0_row6\" class=\"row_heading level0 row6\" >Fine Aggregate</th>\n",
              "                        <td id=\"T_407b3320_f389_11ea_9fa3_0242ac1c0002row6_col0\" class=\"data row6 col0\" >-0.182460</td>\n",
              "                        <td id=\"T_407b3320_f389_11ea_9fa3_0242ac1c0002row6_col1\" class=\"data row6 col1\" >-0.314281</td>\n",
              "                        <td id=\"T_407b3320_f389_11ea_9fa3_0242ac1c0002row6_col2\" class=\"data row6 col2\" >0.094476</td>\n",
              "                        <td id=\"T_407b3320_f389_11ea_9fa3_0242ac1c0002row6_col3\" class=\"data row6 col3\" >-0.466629</td>\n",
              "                        <td id=\"T_407b3320_f389_11ea_9fa3_0242ac1c0002row6_col4\" class=\"data row6 col4\" >0.227558</td>\n",
              "                        <td id=\"T_407b3320_f389_11ea_9fa3_0242ac1c0002row6_col5\" class=\"data row6 col5\" >-0.148943</td>\n",
              "                        <td id=\"T_407b3320_f389_11ea_9fa3_0242ac1c0002row6_col6\" class=\"data row6 col6\" >1.000000</td>\n",
              "                        <td id=\"T_407b3320_f389_11ea_9fa3_0242ac1c0002row6_col7\" class=\"data row6 col7\" >-0.143570</td>\n",
              "            </tr>\n",
              "            <tr>\n",
              "                        <th id=\"T_407b3320_f389_11ea_9fa3_0242ac1c0002level0_row7\" class=\"row_heading level0 row7\" >Age</th>\n",
              "                        <td id=\"T_407b3320_f389_11ea_9fa3_0242ac1c0002row7_col0\" class=\"data row7 col0\" >0.077356</td>\n",
              "                        <td id=\"T_407b3320_f389_11ea_9fa3_0242ac1c0002row7_col1\" class=\"data row7 col1\" >-0.037387</td>\n",
              "                        <td id=\"T_407b3320_f389_11ea_9fa3_0242ac1c0002row7_col2\" class=\"data row7 col2\" >-0.172703</td>\n",
              "                        <td id=\"T_407b3320_f389_11ea_9fa3_0242ac1c0002row7_col3\" class=\"data row7 col3\" >0.293418</td>\n",
              "                        <td id=\"T_407b3320_f389_11ea_9fa3_0242ac1c0002row7_col4\" class=\"data row7 col4\" >-0.199730</td>\n",
              "                        <td id=\"T_407b3320_f389_11ea_9fa3_0242ac1c0002row7_col5\" class=\"data row7 col5\" >-0.033404</td>\n",
              "                        <td id=\"T_407b3320_f389_11ea_9fa3_0242ac1c0002row7_col6\" class=\"data row7 col6\" >-0.143570</td>\n",
              "                        <td id=\"T_407b3320_f389_11ea_9fa3_0242ac1c0002row7_col7\" class=\"data row7 col7\" >1.000000</td>\n",
              "            </tr>\n",
              "    </tbody></table>"
            ],
            "text/plain": [
              "<pandas.io.formats.style.Styler at 0x7ff1d6fc5e10>"
            ]
          },
          "metadata": {
            "tags": []
          },
          "execution_count": 11
        }
      ]
    },
    {
      "cell_type": "code",
      "metadata": {
        "id": "UC5VaE9jzbyB",
        "colab": {
          "base_uri": "https://localhost:8080/",
          "height": 229
        },
        "outputId": "2aff6c0e-5087-4cc8-82c9-7a2309128c39"
      },
      "source": [
        "table_3_2_rows = [\"Intercept\",\"Cement\", \"Blast Furnace Slag\", \"Fly Ash\", \"Water\", \"Superplasticizer\", \"Coarse Aggregate\", \"Fine Aggregate\", \"Age\"]\n",
        "\n",
        "table_3_2 = {\"Coefficient\": beta,\n",
        "            \"Std. Error\": standard_error,\n",
        "            \"Z Score\": z_score\n",
        "            }\n",
        "\n",
        "df_table_3_2 = pd.DataFrame(table_3_2, index=table_3_2_rows)\n",
        "df_table_3_2.style"
      ],
      "execution_count": null,
      "outputs": [
        {
          "output_type": "execute_result",
          "data": {
            "text/html": [
              "<style  type=\"text/css\" >\n",
              "</style><table id=\"T_407f1be8_f389_11ea_9fa3_0242ac1c0002\" ><thead>    <tr>        <th class=\"blank level0\" ></th>        <th class=\"col_heading level0 col0\" >Coefficient</th>        <th class=\"col_heading level0 col1\" >Std. Error</th>        <th class=\"col_heading level0 col2\" >Z Score</th>    </tr></thead><tbody>\n",
              "                <tr>\n",
              "                        <th id=\"T_407f1be8_f389_11ea_9fa3_0242ac1c0002level0_row0\" class=\"row_heading level0 row0\" >Intercept</th>\n",
              "                        <td id=\"T_407f1be8_f389_11ea_9fa3_0242ac1c0002row0_col0\" class=\"data row0 col0\" >36.061904</td>\n",
              "                        <td id=\"T_407f1be8_f389_11ea_9fa3_0242ac1c0002row0_col1\" class=\"data row0 col1\" >0.361137</td>\n",
              "                        <td id=\"T_407f1be8_f389_11ea_9fa3_0242ac1c0002row0_col2\" class=\"data row0 col2\" >99.856534</td>\n",
              "            </tr>\n",
              "            <tr>\n",
              "                        <th id=\"T_407f1be8_f389_11ea_9fa3_0242ac1c0002level0_row1\" class=\"row_heading level0 row1\" >Cement</th>\n",
              "                        <td id=\"T_407f1be8_f389_11ea_9fa3_0242ac1c0002row1_col0\" class=\"data row1 col0\" >13.060391</td>\n",
              "                        <td id=\"T_407f1be8_f389_11ea_9fa3_0242ac1c0002row1_col1\" class=\"data row1 col1\" >0.979337</td>\n",
              "                        <td id=\"T_407f1be8_f389_11ea_9fa3_0242ac1c0002row1_col2\" class=\"data row1 col2\" >13.335957</td>\n",
              "            </tr>\n",
              "            <tr>\n",
              "                        <th id=\"T_407f1be8_f389_11ea_9fa3_0242ac1c0002level0_row2\" class=\"row_heading level0 row2\" >Blast Furnace Slag</th>\n",
              "                        <td id=\"T_407f1be8_f389_11ea_9fa3_0242ac1c0002row2_col0\" class=\"data row2 col0\" >9.510891</td>\n",
              "                        <td id=\"T_407f1be8_f389_11ea_9fa3_0242ac1c0002row2_col1\" class=\"data row2 col1\" >0.979964</td>\n",
              "                        <td id=\"T_407f1be8_f389_11ea_9fa3_0242ac1c0002row2_col2\" class=\"data row2 col2\" >9.705351</td>\n",
              "            </tr>\n",
              "            <tr>\n",
              "                        <th id=\"T_407f1be8_f389_11ea_9fa3_0242ac1c0002level0_row3\" class=\"row_heading level0 row3\" >Fly Ash</th>\n",
              "                        <td id=\"T_407f1be8_f389_11ea_9fa3_0242ac1c0002row3_col0\" class=\"data row3 col0\" >5.980484</td>\n",
              "                        <td id=\"T_407f1be8_f389_11ea_9fa3_0242ac1c0002row3_col1\" class=\"data row3 col1\" >0.900397</td>\n",
              "                        <td id=\"T_407f1be8_f389_11ea_9fa3_0242ac1c0002row3_col2\" class=\"data row3 col2\" >6.642053</td>\n",
              "            </tr>\n",
              "            <tr>\n",
              "                        <th id=\"T_407f1be8_f389_11ea_9fa3_0242ac1c0002level0_row4\" class=\"row_heading level0 row4\" >Water</th>\n",
              "                        <td id=\"T_407f1be8_f389_11ea_9fa3_0242ac1c0002row4_col0\" class=\"data row4 col0\" >-2.938517</td>\n",
              "                        <td id=\"T_407f1be8_f389_11ea_9fa3_0242ac1c0002row4_col1\" class=\"data row4 col1\" >0.951290</td>\n",
              "                        <td id=\"T_407f1be8_f389_11ea_9fa3_0242ac1c0002row4_col2\" class=\"data row4 col2\" >-3.088981</td>\n",
              "            </tr>\n",
              "            <tr>\n",
              "                        <th id=\"T_407f1be8_f389_11ea_9fa3_0242ac1c0002level0_row5\" class=\"row_heading level0 row5\" >Superplasticizer</th>\n",
              "                        <td id=\"T_407f1be8_f389_11ea_9fa3_0242ac1c0002row5_col0\" class=\"data row5 col0\" >1.788002</td>\n",
              "                        <td id=\"T_407f1be8_f389_11ea_9fa3_0242ac1c0002row5_col1\" class=\"data row5 col1\" >0.607062</td>\n",
              "                        <td id=\"T_407f1be8_f389_11ea_9fa3_0242ac1c0002row5_col2\" class=\"data row5 col2\" >2.945338</td>\n",
              "            </tr>\n",
              "            <tr>\n",
              "                        <th id=\"T_407f1be8_f389_11ea_9fa3_0242ac1c0002level0_row6\" class=\"row_heading level0 row6\" >Coarse Aggregate</th>\n",
              "                        <td id=\"T_407f1be8_f389_11ea_9fa3_0242ac1c0002row6_col0\" class=\"data row6 col0\" >1.541077</td>\n",
              "                        <td id=\"T_407f1be8_f389_11ea_9fa3_0242ac1c0002row6_col1\" class=\"data row6 col1\" >0.806968</td>\n",
              "                        <td id=\"T_407f1be8_f389_11ea_9fa3_0242ac1c0002row6_col2\" class=\"data row6 col2\" >1.909712</td>\n",
              "            </tr>\n",
              "            <tr>\n",
              "                        <th id=\"T_407f1be8_f389_11ea_9fa3_0242ac1c0002level0_row7\" class=\"row_heading level0 row7\" >Fine Aggregate</th>\n",
              "                        <td id=\"T_407f1be8_f389_11ea_9fa3_0242ac1c0002row7_col0\" class=\"data row7 col0\" >2.024703</td>\n",
              "                        <td id=\"T_407f1be8_f389_11ea_9fa3_0242ac1c0002row7_col1\" class=\"data row7 col1\" >0.929891</td>\n",
              "                        <td id=\"T_407f1be8_f389_11ea_9fa3_0242ac1c0002row7_col2\" class=\"data row7 col2\" >2.177354</td>\n",
              "            </tr>\n",
              "            <tr>\n",
              "                        <th id=\"T_407f1be8_f389_11ea_9fa3_0242ac1c0002level0_row8\" class=\"row_heading level0 row8\" >Age</th>\n",
              "                        <td id=\"T_407f1be8_f389_11ea_9fa3_0242ac1c0002row8_col0\" class=\"data row8 col0\" >7.060466</td>\n",
              "                        <td id=\"T_407f1be8_f389_11ea_9fa3_0242ac1c0002row8_col1\" class=\"data row8 col1\" >0.384832</td>\n",
              "                        <td id=\"T_407f1be8_f389_11ea_9fa3_0242ac1c0002row8_col2\" class=\"data row8 col2\" >18.346867</td>\n",
              "            </tr>\n",
              "    </tbody></table>"
            ],
            "text/plain": [
              "<pandas.io.formats.style.Styler at 0x7ff1d6a2bd30>"
            ]
          },
          "metadata": {
            "tags": []
          },
          "execution_count": 12
        }
      ]
    },
    {
      "cell_type": "code",
      "metadata": {
        "id": "y1WJEQR-zbyE",
        "colab": {
          "base_uri": "https://localhost:8080/",
          "height": 51
        },
        "outputId": "e86fc018-26f5-44d6-a3c0-df8c5acd3147"
      },
      "source": [
        "def MSE_linreg(x_test,y_test,x_train,y_train):\n",
        "  \"\"\"\n",
        "  inputs are pandas dataframe, returns the MSE\n",
        "  x_test and y_test are what are being fitted compared to x_train and y_train, where coefficients of betas were found\n",
        "  \"\"\"\n",
        "  beta = linreg(x_train,y_train) #follows function above\n",
        "  x_test = standardization(x_test,0) \n",
        "  x_test = x_test.to_numpy() #converts selected pandas df into numpy object\n",
        "  y_test = y_test.to_numpy() #converts selected pandas df into numpy object\n",
        "  Y_predicted = np.zeros(len(y_test)) #initialize\n",
        "  for i in range(0,len(y_test)):\n",
        "    Y_predicted[i] = beta[0] + np.dot(beta[1:], x_test[i][:])\n",
        "  mse = sum(np.square(Y_predicted-y_test))/len(y_test)\n",
        "  return(mse)\n",
        "\n",
        "print(\"---------\")\n",
        "print(\"The MSE of the test dataset is:\", MSE_linreg(x_test,y_test,x_train,y_train))"
      ],
      "execution_count": null,
      "outputs": [
        {
          "output_type": "stream",
          "text": [
            "---------\n",
            "The MSE of the test dataset is: 119.07953432658736\n"
          ],
          "name": "stdout"
        }
      ]
    },
    {
      "cell_type": "markdown",
      "metadata": {
        "id": "znv4Ixbgz1ch"
      },
      "source": [
        "# Part B\n"
      ]
    },
    {
      "cell_type": "code",
      "metadata": {
        "id": "3EXauEeNz5GE",
        "colab": {
          "base_uri": "https://localhost:8080/",
          "height": 380
        },
        "outputId": "d3500de6-2e48-49e0-88c9-98e6033c9305"
      },
      "source": [
        "def ridgereg(x,y,_lambda):\n",
        "  \"\"\"\n",
        "  inputs are pandas dataframe, returns coefficients of betas based of Ridge Regression. If _lambda = 0, then it is just regular Linear Regression\n",
        "  \"\"\"\n",
        "  #No need to add columns of 1s, as to not penalize the intercepts\n",
        "  x = standardization(x,0) \n",
        "  x = x.to_numpy() #converts selected pandas df into numpy object\n",
        "  Y = y.to_numpy() #converts selected pandas df into numpy object\n",
        "  X = x\n",
        "  beta = np.dot(np.dot(np.linalg.inv(np.dot(X.T, X)+_lambda*np.identity(x.shape[1])), X.T),Y) #follows equation 3.44\n",
        "  return(beta)\n",
        "\n",
        "\"\"\"\n",
        "#This includes the first col of 1s\n",
        "def ridgereg(x,y,_lambda):\n",
        "  inputs are pandas dataframe, returns coefficients of betas based of Ridge Regression. If _lambda = 0, then it is just regular Linear Regression\n",
        "  x = standardization(x,0) \n",
        "  x = x.to_numpy() #converts selected pandas df into numpy object\n",
        "  Y = y.to_numpy() #converts selected pandas df into numpy object\n",
        "  X = np.append(np.ones((x.shape[0],1)), x, axis = 1) #appends the columns of 1s to the beginning \n",
        "  beta = np.dot(np.dot(np.linalg.inv(np.dot(X.T, X)+_lambda*np.identity(x.shape[1]+1)), X.T),Y) #follows equation 3.44\n",
        "  return(beta)\n",
        "\"\"\"\n",
        "\n",
        "print(\"Using a ridge regression, beta is: \\n\", ridgereg(x_train,y_train,0))\n",
        "\n",
        "#Cross validation is on page 61\n",
        "\n",
        "def MSE_ridgereg(x_test,y_test,x_train,y_train,_lambda):\n",
        "  \"\"\"\n",
        "  inputs are pandas dataframe, returns the MSE\n",
        "  x_test and y_test are what are being fitted compared to x_train and y_train, where coefficients of betas were found\n",
        "  \"\"\"\n",
        "  beta = ridgereg(x_train,y_train,_lambda) #follows function above\n",
        "  x_test = standardization(x_test,0) \n",
        "  x_test = x_test.to_numpy() #converts selected pandas df into numpy object\n",
        "  y_test = y_test.to_numpy() #converts selected pandas df into numpy object\n",
        "  Y_predicted = np.zeros(len(y_test)) #initialize\n",
        "  for i in range(0,len(y_test)):\n",
        "    Y_predicted[i] = np.dot(beta[0:], x_test[i][:])\n",
        "    #Y_predicted[i] = beta[0] + np.dot(beta[1:], x_test[i][:]) ############## DO I NEED TO FIT RIDGE REG THROUGH ORIGIN???\n",
        "  Y_actual_average = y_train.mean() ######################################## DO I NEED TO USE MEAN OF Y_ACTUAL AS NEW INTERCEPT???\n",
        "  #mse = sum(np.square(Y_predicted-y_test))/len(y_test)\n",
        "  mse = sum(np.square(Y_predicted+Y_actual_average-y_test))/len(y_test) \n",
        "  return(mse)\n",
        "\n",
        "ridge_lambda_array = np.linspace(0,100,50) \n",
        "ridge_MSE_array = np.zeros(len(ridge_lambda_array)) #initialize\n",
        "\n",
        "#Right now, it's testing with the training and test, not validation and test as Keene wants it\n",
        "\"\"\"\n",
        "SO COME BACK TO THIS LATER\n",
        "\"\"\"\n",
        "for i in range(len(ridge_lambda_array)):\n",
        "  ridge_MSE_array[i] = MSE_ridgereg(x_validation,y_validation,x_train,y_train,ridge_lambda_array[i])\n",
        "\n",
        "print(f\"The optimal lambda I found using the validation set is {ridge_lambda_array[np.argmin(ridge_MSE_array)]}\")\n",
        "print(f\"At this optimal lambda, the MSE on the test set is {MSE_ridgereg(x_test,y_test,x_train,y_train,_lambda=ridge_lambda_array[np.argmin(ridge_MSE_array)])}\")\n",
        "\n",
        "\n",
        "plt.plot(ridge_lambda_array,ridge_MSE_array,linestyle='--', marker='o')\n",
        "plt.axvline(x=ridge_lambda_array[np.argmin(ridge_MSE_array)],linestyle='--') #plots value in lambda_array where the minimum in the MSE_array occured\n",
        "plt.text(ridge_lambda_array[np.argmin(ridge_MSE_array)],np.median(ridge_MSE_array),f\" λ={optimal_lambda_rounded}\")\n",
        "\n",
        "plt.title(\"Determining Optimal λ Based off MSE for Ridge\")\n",
        "plt.xlabel(\"λ\")\n",
        "plt.ylabel(\"MSE\")\n",
        "plt.show()"
      ],
      "execution_count": null,
      "outputs": [
        {
          "output_type": "stream",
          "text": [
            "Using a ridge regression, beta is: \n",
            " [13.06039082  9.51089148  5.98048364 -2.93851737  1.78800161  1.54107659\n",
            "  2.0247028   7.06046607]\n",
            "The optimal lambda I found using the validation set is 4.081632653061225\n",
            "At this optimal lambda, the MSE on the test set is 118.23761686830757\n"
          ],
          "name": "stdout"
        },
        {
          "output_type": "display_data",
          "data": {
            "image/png": "[encoded data removed]",
            "text/plain": [
              "<Figure size 432x288 with 1 Axes>"
            ]
          },
          "metadata": {
            "tags": [],
            "needs_background": "light"
          }
        }
      ]
    },
    {
      "cell_type": "code",
      "metadata": {
        "id": "cz_dEfUZz5GJ",
        "colab": {
          "base_uri": "https://localhost:8080/",
          "height": 312
        },
        "outputId": "7d08bf4c-e6a3-43fb-d3ca-a42253b7d59f"
      },
      "source": [
        "ridge_lambda_array = np.linspace(0,100,50) \n",
        "ridge_beta = np.zeros((len(ridge_lambda_array),8))\n",
        "columns_label = df.columns\n",
        "\n",
        "for i in range(len(ridge_lambda_array)):\n",
        "  #ridge_beta[i] = ridgereg(x_train,y_train,ridge_lambda_array[i])[1:] #this is including the columns of 1s\n",
        "  ridge_beta[i] = ridgereg(x_train,y_train,ridge_lambda_array[i])[0:]\n",
        "\n",
        "for i in range(ridge_beta.shape[1]):\n",
        "  x = ridge_beta[:,i]\n",
        "  plt.plot(ridge_lambda_array,x,label=columns_label[i],linestyle='--', marker='o')\n",
        "\n",
        "plt.axvline(x=ridge_lambda_array[np.argmin(ridge_MSE_array)],linestyle='--')\n",
        "plt.title(\"Ridge Coefficients vs λ\")\n",
        "plt.legend(loc=\"right\",bbox_to_anchor=(1.25, 0.5))\n",
        "plt.xlabel(\"λ\")\n",
        "plt.ylabel(\"β\")"
      ],
      "execution_count": null,
      "outputs": [
        {
          "output_type": "execute_result",
          "data": {
            "text/plain": [
              "Text(0, 0.5, 'β')"
            ]
          },
          "metadata": {
            "tags": []
          },
          "execution_count": 15
        },
        {
          "output_type": "display_data",
          "data": {
            "image/png": "[encoded data removed]",
            "text/plain": [
              "<Figure size 432x288 with 1 Axes>"
            ]
          },
          "metadata": {
            "tags": [],
            "needs_background": "light"
          }
        }
      ]
    },
    {
      "cell_type": "markdown",
      "metadata": {
        "id": "Zf6pMA2U0ArW"
      },
      "source": [
        "#Part C\n"
      ]
    },
    {
      "cell_type": "code",
      "metadata": {
        "id": "qd6jKGM_0nBG",
        "colab": {
          "base_uri": "https://localhost:8080/",
          "height": 607
        },
        "outputId": "3d2b9d1d-9932-48ce-80f4-3d9229fa9e62"
      },
      "source": [
        "from sklearn.linear_model import Lasso\n",
        "from sklearn.metrics import mean_squared_error\n",
        "from sklearn.preprocessing import StandardScaler\n",
        "from sklearn.preprocessing import MinMaxScaler\n",
        "\n",
        "\n",
        "columns_label = df.columns\n",
        "lasso_lambda_array = np.linspace(0.01,1,100) #excluding where lambda = 0 as there is a suggestion NOT to use it since using regular Linear Regression is better\n",
        "lasso_MSE_array = np.zeros(len(lasso_lambda_array))\n",
        "\n",
        "\n",
        "for i in range(len(lasso_lambda_array)):\n",
        "  lasso = Lasso(alpha=lasso_lambda_array[i]) #fit_intercept = 0\n",
        "  \n",
        "  ss1 = StandardScaler()\n",
        "  ss2 = StandardScaler()\n",
        "  x_train = ss1.fit_transform(x_train)\n",
        "  x_test = ss2.fit_transform(x_test)\n",
        "\n",
        "  lasso.fit(x_train,y_train)\n",
        "  y_predicted = lasso.predict(x_test)\n",
        "  lasso_MSE_array[i] = mean_squared_error(y_predicted,y_test) \n",
        "\n",
        "\n",
        "optimal_lambda = lasso_lambda_array[np.argmin(lasso_MSE_array)]\n",
        "print(f\"The optimal lambda I found using the validation set is {optimal_lambda}\")\n",
        "\n",
        "#This function determines the MSE of the test set using the training set and the optimal lambda\n",
        "def msebestlambdavalidation(x_test,y_test,x_train,y_train,_lambda):\n",
        "  lasso = Lasso(alpha=_lambda)\n",
        "  ss1 = StandardScaler()\n",
        "  ss2 = StandardScaler()\n",
        "\n",
        "  x_train = ss1.fit_transform(x_train)\n",
        "  x_test = ss2.fit_transform(x_test)\n",
        "\n",
        "  lasso.fit(x_train,y_train)\n",
        "  y_predicted = lasso.predict(x_test)\n",
        "  mse = mean_squared_error(y_predicted,y_test)\n",
        "  return(mse)\n",
        "\n",
        "print(f\"At this optimal lambda, the MSE on the test set is {msebestlambdavalidation(x_test,y_test,x_train,y_train,optimal_lambda)}\")\n",
        "\n",
        "\n",
        "plt.plot(lasso_lambda_array,lasso_MSE_array,linestyle='--', marker='o')\n",
        "plt.axvline(x=optimal_lambda,linestyle='--')\n",
        "plt.title(\"Determining Optimal λ Based off MSE for Lasso\")\n",
        "optimal_lambda_rounded = round(optimal_lambda,2)\n",
        "plt.text(optimal_lambda,np.median(lasso_MSE_array),f\" λ={optimal_lambda_rounded}\")\n",
        "\n",
        "#plt.legend(loc=\"right\",bbox_to_anchor=(1.25, 0.5))\n",
        "plt.xlabel(\"λ\")\n",
        "plt.ylabel(\"MSE\")\n",
        "plt.show()\n",
        "\n",
        "#Lasso vs Lambda\n",
        "empty = np.zeros((len(lasso_lambda_array),8))\n",
        "\n",
        "for i in range(len(lasso_lambda_array)):\n",
        "  lasso = Lasso(alpha=lasso_lambda_array[i])\n",
        "  scaler = StandardScaler()\n",
        "  scaled_x = scaler.fit_transform(x_train)\n",
        "  scaled_x = rescaling(x_train)\n",
        "\n",
        "  lasso.fit(scaled_x,y_train)\n",
        "  empty[i] = lasso.coef_\n",
        "\n",
        "\n",
        "for i in range(empty.shape[1]):\n",
        "  #x = empty[0:(len(lasso_lambda_array)-80),i]\n",
        "  #plt.plot(lasso_lambda_array[0:(len(lasso_lambda_array)-80)],x,label=columns_label[i])\n",
        "  x = empty[:,i]\n",
        "  plt.plot(lasso_lambda_array,x,label=columns_label[i])\n",
        "\n",
        "plt.axvline(x=optimal_lambda,linestyle='--')\n",
        "plt.title(\"Lasso Coefficients vs λ\")\n",
        "plt.legend(loc=\"right\",bbox_to_anchor=(1.5, 0.5))\n",
        "plt.xlabel(\"λ\")\n",
        "plt.ylabel(\"MSE\")\n",
        "plt.show()\n"
      ],
      "execution_count": null,
      "outputs": [
        {
          "output_type": "stream",
          "text": [
            "The optimal lambda I found using the validation set is 0.14\n",
            "At this optimal lambda, the MSE on the test set is 116.99636919063269\n"
          ],
          "name": "stdout"
        },
        {
          "output_type": "display_data",
          "data": {
            "image/png": "[encoded data removed]",
            "text/plain": [
              "<Figure size 432x288 with 1 Axes>"
            ]
          },
          "metadata": {
            "tags": [],
            "needs_background": "light"
          }
        },
        {
          "output_type": "display_data",
          "data": {
            "image/png": "[encoded data removed]",
            "text/plain": [
              "<Figure size 432x288 with 1 Axes>"
            ]
          },
          "metadata": {
            "tags": [],
            "needs_background": "light"
          }
        }
      ]
    },
    {
      "cell_type": "markdown",
      "metadata": {
        "id": "b0WW910LKjti"
      },
      "source": [
        "#Introducing Non-Linear Columns from Pre-Exisiting Data"
      ]
    },
    {
      "cell_type": "code",
      "metadata": {
        "id": "oP2rUtnEKh8A",
        "colab": {
          "base_uri": "https://localhost:8080/",
          "height": 607
        },
        "outputId": "2c40dfe1-3c5d-48ad-dedc-c5d724da7304"
      },
      "source": [
        "import pandas as pd\n",
        "import numpy as np\n",
        "import math\n",
        "import matplotlib.pyplot as plt\n",
        "from sklearn.linear_model import Lasso\n",
        "from sklearn.metrics import mean_squared_error\n",
        "from sklearn.preprocessing import StandardScaler\n",
        "from sklearn.preprocessing import MinMaxScaler\n",
        "\n",
        "\n",
        "#df = pd.read_excel(\"http://archive.ics.uci.edu/ml/machine-learning-databases/concrete/compressive/Concrete_Data.xls\")\n",
        "df = pd.read_excel(\"Concrete_Data.xls\")\n",
        "\n",
        "#New additional features\n",
        "#df[\"9\"] = df.iloc[:,0]*df.iloc[:,0]\n",
        "#df[\"10\"] = df.iloc[:,1]*df.iloc[:,1]\n",
        "#df[\"11\"] = df.iloc[:,2]*df.iloc[:,2]\n",
        "#df[\"12\"] = df.iloc[:,3]*df.iloc[:,3]\n",
        "#df[\"13\"] = df.iloc[:,4]*df.iloc[:,4]\n",
        "#df[\"14\"] = df.iloc[:,5]*df.iloc[:,5]\n",
        "#df[\"15\"] = df.iloc[:,6]*df.iloc[:,6]\n",
        "df[\"16\"] = df.iloc[:,7]*df.iloc[:,7]\n",
        "\n",
        "#df[\"17\"] = np.sqrt(df.iloc[:,0])\n",
        "#df[\"18\"] = np.sqrt(df.iloc[:,1])\n",
        "#df[\"19\"] = np.sqrt(df.iloc[:,2])\n",
        "#df[\"20\"] = np.sqrt(df.iloc[:,3])\n",
        "#df[\"21\"] = np.sqrt(df.iloc[:,4])\n",
        "#df[\"22\"] = np.sqrt(df.iloc[:,5])\n",
        "#df[\"23\"] = np.sqrt(df.iloc[:,6])\n",
        "#df[\"24\"] = np.sqrt(df.iloc[:,7])\n",
        "\n",
        "\n",
        "\n",
        "df_train, df_validation, df_test = np.split(df.sample(frac=1, random_state=100), [int(.8*len(df)), int(.9*len(df))]) #lengths of 824, 103, 103 respectively\n",
        "output = \"Concrete compressive strength\"\n",
        "#output = \"Concrete compressive strength(MPa, megapascals) \" #this is just the output column. I renamed the actual columns since some had an extremely high character count\n",
        "\n",
        "\n",
        "#Isolating Y (+2)\n",
        "y_train = df_train[output] \n",
        "#y_validation = df_validation[output]\n",
        "y_test = df_test[output]\n",
        "\n",
        "#Isolating X (+2)\n",
        "x_train = df_train.drop([output], axis=1) \n",
        "#x_validation = df_validation.drop([output], axis=1)\n",
        "x_test = df_test.drop([output], axis=1)\n",
        "\n",
        "x_column_length = len(x_train.columns)\n",
        "\n",
        "\n",
        "columns_label = df.columns\n",
        "lasso_lambda_array = np.linspace(0.01,1,100) #excluding where lambda = 0 as there is a suggestion NOT to use it since using regular Linear Regression is better\n",
        "lasso_MSE_array = np.zeros(len(lasso_lambda_array))\n",
        "\n",
        "\n",
        "for i in range(len(lasso_lambda_array)):\n",
        "  lasso = Lasso(alpha=lasso_lambda_array[i]) #fit_intercept = 0\n",
        "  \n",
        "  ss1 = StandardScaler()\n",
        "  ss2 = StandardScaler()\n",
        "  x_train = ss1.fit_transform(x_train)\n",
        "  x_test = ss2.fit_transform(x_test)\n",
        "\n",
        "  lasso.fit(x_train,y_train)\n",
        "  y_predicted = lasso.predict(x_test)\n",
        "  lasso_MSE_array[i] = mean_squared_error(y_predicted,y_test) \n",
        "\n",
        "\n",
        "optimal_lambda = lasso_lambda_array[np.argmin(lasso_MSE_array)]\n",
        "plt.plot(lasso_lambda_array,lasso_MSE_array,linestyle='--', marker='o')\n",
        "plt.axvline(x=optimal_lambda,linestyle='--')\n",
        "plt.title(\"Determining Optimal λ Based off MSE for Lasso\")\n",
        "optimal_lambda_rounded = round(optimal_lambda,2)\n",
        "plt.text(optimal_lambda,np.median(lasso_MSE_array),f\" λ={optimal_lambda_rounded}\")\n",
        "\n",
        "#plt.legend(loc=\"right\",bbox_to_anchor=(1.25, 0.5))\n",
        "plt.xlabel(\"λ\")\n",
        "plt.ylabel(\"MSE\")\n",
        "plt.show()\n",
        "\n",
        "print(f\"By adding a nonlinear feature (age squared), the MSE is now {np.min(lasso_MSE_array)}\") \n",
        "\n",
        "#Lasso vs Lambda\n",
        "empty = np.zeros((len(lasso_lambda_array),x_column_length))\n",
        "\n",
        "for i in range(len(lasso_lambda_array)):\n",
        "  lasso = Lasso(alpha=lasso_lambda_array[i])\n",
        "  scaler = StandardScaler()\n",
        "  scaled_x = scaler.fit_transform(x_train)\n",
        "  scaled_x = rescaling(x_train)\n",
        "  lasso.fit(scaled_x,y_train)\n",
        "  empty[i] = lasso.coef_\n",
        "\n",
        "\n",
        "for i in range(empty.shape[1]):\n",
        "  x = empty[:,i]\n",
        "  plt.plot(lasso_lambda_array,x,label=columns_label[i])\n",
        "\n",
        "plt.axvline(x=optimal_lambda,linestyle='--')\n",
        "plt.title(\"Lasso Coefficients vs λ\")\n",
        "plt.legend(loc=\"right\",bbox_to_anchor=(2, 0.5))\n",
        "plt.xlabel(\"λ\")\n",
        "plt.ylabel(\"MSE\")\n"
      ],
      "execution_count": null,
      "outputs": [
        {
          "output_type": "display_data",
          "data": {
            "image/png": "[encoded data removed]",
            "text/plain": [
              "<Figure size 432x288 with 1 Axes>"
            ]
          },
          "metadata": {
            "tags": [],
            "needs_background": "light"
          }
        },
        {
          "output_type": "stream",
          "text": [
            "By adding a nonlinear feature (age squared), the MSE is now 81.53375060003904\n"
          ],
          "name": "stdout"
        },
        {
          "output_type": "execute_result",
          "data": {
            "text/plain": [
              "Text(0, 0.5, 'MSE')"
            ]
          },
          "metadata": {
            "tags": []
          },
          "execution_count": 17
        },
        {
          "output_type": "display_data",
          "data": {
            "image/png": "[encoded data removed]",
            "text/plain": [
              "<Figure size 432x288 with 1 Axes>"
            ]
          },
          "metadata": {
            "tags": [],
            "needs_background": "light"
          }
        }
      ]
    },
    {
      "cell_type": "markdown",
      "metadata": {
        "id": "YY0Do0afZFE6"
      },
      "source": [
        "# RANDOM STUFF DON'T USE THIS IN FINAL\n",
        "\n"
      ]
    },
    {
      "cell_type": "code",
      "metadata": {
        "id": "wb7lpJl-yqrB",
        "colab": {
          "base_uri": "https://localhost:8080/",
          "height": 367
        },
        "outputId": "7d8ea5c5-f32b-4b0f-8838-cf3ed2819e13"
      },
      "source": [
        "def standardization(x,val):\n",
        "  \"\"\"\n",
        "  Input is a pandas dataframe. For each column, standardizes it by x' = (x-mu)/sigma. val can be 1 (default arg of std()) which is sample, or 0 which is population\n",
        "  \"\"\"\n",
        "  x = (x - x.mean())/x.std(ddof=val)\n",
        "  return x\n",
        "\n",
        "\n",
        "def linreg(x,y):\n",
        "  \"\"\"\n",
        "  inputs are pandas dataframe, returns coefficients of betas\n",
        "  \"\"\"\n",
        "  x = standardization(x,0) \n",
        "  x = x.to_numpy() #converts selected pandas df into numpy object\n",
        "  Y = y.to_numpy() #converts selected pandas df into numpy object\n",
        "  X = np.append(np.ones((x.shape[0],1)), x, axis = 1) #appends the columns of 1s to the beginning \n",
        "  beta = np.dot(np.dot(np.linalg.inv(np.dot(X.T, X)), X.T),Y) #follows equation 3.6\n",
        "  return(beta)\n",
        "\n",
        "print(\"----------------------------------\")\n",
        "print(\"Using a linear regression, beta is: \\n\", linreg(x_train,y_train))\n",
        "\n",
        "def v_j(x):\n",
        "  \"\"\"\n",
        "  Returns diagonal elements of (XX^T)^-1 \n",
        "  \"\"\"\n",
        "  x = (x - x.mean())/x.std(ddof=0) #ddof of 0 results in using population std, NOT sample std\n",
        "  x = x.to_numpy() #converts selected pandas df into numpy object\n",
        "  X = np.append(np.ones((x.shape[0],1)), x, axis = 1) #appends the columns of 1s to the beginning \n",
        "  return(np.diag(np.linalg.inv(np.dot(X.T, X))))\n",
        "\n",
        "#print(v_j(x_train))\n",
        "#print(np.sqrt(v_j(x_train)))\n",
        "\n",
        "\n",
        "#Equation 3.8\n",
        "N = df_train.shape[0]\n",
        "p = df_train.shape[1]\n",
        "\n",
        "\n",
        "\n",
        "def prediction(x,y):\n",
        "  \"\"\"\n",
        "  inputs are pandas dataframe, returns the MSE\n",
        "  x and y are what are being fitted compared to x_train and y_train, where coefficients of betas are found\n",
        "  \"\"\"\n",
        "  beta = linreg(x_train,y_train) #follows function above\n",
        "  x = x.to_numpy() #converts selected pandas df into numpy object\n",
        "  y = y.to_numpy() #converts selected pandas df into numpy object\n",
        "  Y_predicted = np.zeros(len(y)) #initialize\n",
        "  for i in range(0,len(y)):\n",
        "    Y_predicted[i] = beta[0] + np.dot(beta[1:], x[i][:])\n",
        "  return(Y_predicted)\n",
        "\n",
        "print(prediction(x_train,y_train))\n",
        "\n",
        "\n",
        "def sigma_hat(x,y):\n",
        "  beta = linreg(x,y)\n",
        "  sigma = math.sqrt((1/(x.shape[0]-x.shape[1]-1))*sum(np.square(prediction(x,y)-y)))\n",
        "  return(sigma)\n",
        "\n",
        "print(sigma_hat(x_train,y_train))\n",
        "\n",
        "print(x_train.shape[0])\n",
        "\n",
        "sigma = math.sqrt((1/(N-p-1))*sum(np.square(prediction(x_train,y_train)-y_train)))\n",
        "print(sigma)\n",
        "\n",
        "def zscore(x,y):\n",
        "  beta = linreg()\n"
      ],
      "execution_count": null,
      "outputs": [
        {
          "output_type": "stream",
          "text": [
            "----------------------------------\n"
          ],
          "name": "stdout"
        },
        {
          "output_type": "error",
          "ename": "AttributeError",
          "evalue": "ignored",
          "traceback": [
            "\u001b[0;31m---------------------------------------------------------------------------\u001b[0m",
            "\u001b[0;31mAttributeError\u001b[0m                            Traceback (most recent call last)",
            "\u001b[0;32m<ipython-input-18-29847ea5f8ff>\u001b[0m in \u001b[0;36m<module>\u001b[0;34m()\u001b[0m\n\u001b[1;32m     19\u001b[0m \u001b[0;34m\u001b[0m\u001b[0m\n\u001b[1;32m     20\u001b[0m \u001b[0mprint\u001b[0m\u001b[0;34m(\u001b[0m\u001b[0;34m\"----------------------------------\"\u001b[0m\u001b[0;34m)\u001b[0m\u001b[0;34m\u001b[0m\u001b[0;34m\u001b[0m\u001b[0m\n\u001b[0;32m---> 21\u001b[0;31m \u001b[0mprint\u001b[0m\u001b[0;34m(\u001b[0m\u001b[0;34m\"Using a linear regression, beta is: \\n\"\u001b[0m\u001b[0;34m,\u001b[0m \u001b[0mlinreg\u001b[0m\u001b[0;34m(\u001b[0m\u001b[0mx_train\u001b[0m\u001b[0;34m,\u001b[0m\u001b[0my_train\u001b[0m\u001b[0;34m)\u001b[0m\u001b[0;34m)\u001b[0m\u001b[0;34m\u001b[0m\u001b[0;34m\u001b[0m\u001b[0m\n\u001b[0m\u001b[1;32m     22\u001b[0m \u001b[0;34m\u001b[0m\u001b[0m\n\u001b[1;32m     23\u001b[0m \u001b[0;32mdef\u001b[0m \u001b[0mv_j\u001b[0m\u001b[0;34m(\u001b[0m\u001b[0mx\u001b[0m\u001b[0;34m)\u001b[0m\u001b[0;34m:\u001b[0m\u001b[0;34m\u001b[0m\u001b[0;34m\u001b[0m\u001b[0m\n",
            "\u001b[0;32m<ipython-input-18-29847ea5f8ff>\u001b[0m in \u001b[0;36mlinreg\u001b[0;34m(x, y)\u001b[0m\n\u001b[1;32m     12\u001b[0m   \"\"\"\n\u001b[1;32m     13\u001b[0m   \u001b[0mx\u001b[0m \u001b[0;34m=\u001b[0m \u001b[0mstandardization\u001b[0m\u001b[0;34m(\u001b[0m\u001b[0mx\u001b[0m\u001b[0;34m,\u001b[0m\u001b[0;36m0\u001b[0m\u001b[0;34m)\u001b[0m\u001b[0;34m\u001b[0m\u001b[0;34m\u001b[0m\u001b[0m\n\u001b[0;32m---> 14\u001b[0;31m   \u001b[0mx\u001b[0m \u001b[0;34m=\u001b[0m \u001b[0mx\u001b[0m\u001b[0;34m.\u001b[0m\u001b[0mto_numpy\u001b[0m\u001b[0;34m(\u001b[0m\u001b[0;34m)\u001b[0m \u001b[0;31m#converts selected pandas df into numpy object\u001b[0m\u001b[0;34m\u001b[0m\u001b[0;34m\u001b[0m\u001b[0m\n\u001b[0m\u001b[1;32m     15\u001b[0m   \u001b[0mY\u001b[0m \u001b[0;34m=\u001b[0m \u001b[0my\u001b[0m\u001b[0;34m.\u001b[0m\u001b[0mto_numpy\u001b[0m\u001b[0;34m(\u001b[0m\u001b[0;34m)\u001b[0m \u001b[0;31m#converts selected pandas df into numpy object\u001b[0m\u001b[0;34m\u001b[0m\u001b[0;34m\u001b[0m\u001b[0m\n\u001b[1;32m     16\u001b[0m   \u001b[0mX\u001b[0m \u001b[0;34m=\u001b[0m \u001b[0mnp\u001b[0m\u001b[0;34m.\u001b[0m\u001b[0mappend\u001b[0m\u001b[0;34m(\u001b[0m\u001b[0mnp\u001b[0m\u001b[0;34m.\u001b[0m\u001b[0mones\u001b[0m\u001b[0;34m(\u001b[0m\u001b[0;34m(\u001b[0m\u001b[0mx\u001b[0m\u001b[0;34m.\u001b[0m\u001b[0mshape\u001b[0m\u001b[0;34m[\u001b[0m\u001b[0;36m0\u001b[0m\u001b[0;34m]\u001b[0m\u001b[0;34m,\u001b[0m\u001b[0;36m1\u001b[0m\u001b[0;34m)\u001b[0m\u001b[0;34m)\u001b[0m\u001b[0;34m,\u001b[0m \u001b[0mx\u001b[0m\u001b[0;34m,\u001b[0m \u001b[0maxis\u001b[0m \u001b[0;34m=\u001b[0m \u001b[0;36m1\u001b[0m\u001b[0;34m)\u001b[0m \u001b[0;31m#appends the columns of 1s to the beginning\u001b[0m\u001b[0;34m\u001b[0m\u001b[0;34m\u001b[0m\u001b[0m\n",
            "\u001b[0;31mAttributeError\u001b[0m: 'numpy.ndarray' object has no attribute 'to_numpy'"
          ]
        }
      ]
    },
    {
      "cell_type": "code",
      "metadata": {
        "id": "3nBEdm17QIFA"
      },
      "source": [
        "from sklearn.linear_model import Lasso\n",
        "from sklearn.metrics import mean_squared_error\n",
        "from sklearn.preprocessing import StandardScaler\n",
        "\n",
        "\n",
        "\"\"\"\n",
        "lasso = Lasso(alpha=0.1)\n",
        "lasso.fit(x_train,y_train)\n",
        "\n",
        "print(\"y-intercept is:\", lasso.intercept_)\n",
        "print(lasso.coef_)\n",
        "\n",
        "predict_train = lasso.predict(x_train)\n",
        "#print(\"MSE for the training set is:\", mean_squared_error(predict_train,y_train))\n",
        "\n",
        "predict_test = lasso.predict(x_test)\n",
        "#print(\"MSE for the test set is:\", mean_squared_error(predict_test,y_test))\n",
        "\"\"\"\n",
        "\n",
        "columns_label = df.columns\n",
        "\n",
        "#lambda_array = np.linspace(0.01,0.5,20) #excluding where lambda = 0 as there is a suggestion NOT to use it since using regular Linear Regression is better\n",
        "lambda_array = np.linspace(0.01,0.5,20) #excluding where lambda = 0 as there is a suggestion NOT to use it since using regular Linear Regression is better\n",
        "\n",
        "empty = np.zeros((len(lambda_array),8))\n",
        "\n",
        "\n",
        "\"\"\"\n",
        "for i in range(len(lambda_array)):\n",
        "  for j in lambda_array:\n",
        "    lasso = Lasso(alpha=j)\n",
        "    lasso.fit(x_train,y_train)\n",
        "    beta = lasso.coef_\n",
        "    empty[i] = beta\n",
        "    #print(empty)  \n",
        "\"\"\"\n",
        "\n",
        "\"\"\"\n",
        "for j in lambda_array:\n",
        "  lasso = Lasso(alpha=j)\n",
        "  lasso.fit(x_train,y_train)\n",
        "  beta = lasso.coef_\n",
        "  #print(beta)\n",
        "  empty[np.where(lambda_array==j)] = beta\n",
        "  #print(empty)  \n",
        "\"\"\"\n",
        "\n",
        "\n",
        "\n",
        "\"\"\"\n",
        "for i in range(len(lambda_array)):\n",
        "  lasso = Lasso(alpha=lambda_array[i])\n",
        "  scaler = StandardScaler()\n",
        "  scaled_x = scaler.fit_transform(x_train)\n",
        "  lasso.fit(scaled_x,y_train)\n",
        "  empty[i] = lasso.coef_\n",
        "\"\"\"\n",
        "\n",
        "empty = np.zeros((len(lambda_array),1))\n",
        "for i in range(len(lambda_array)):\n",
        "  lasso = Lasso(alpha=lambda_array[i])\n",
        "  scaler = StandardScaler()\n",
        "  scaled_x = scaler.fit_transform(x_train)\n",
        "  lasso.fit(scaled_x,y_train)\n",
        "  a = lasso.predict(scaled_x)\n",
        "  empty[i] = mean_squared_error(a,y_train)\n",
        "\n",
        "\n",
        "\n",
        "plt.plot(lambda_array,empty,linestyle='--', marker='o')\n",
        "plt.title(\"Lasso Coefficients vs λ\")\n",
        "plt.legend(loc=\"right\",bbox_to_anchor=(1.25, 0.5))\n",
        "plt.xlabel(\"λ\")\n",
        "plt.ylabel(\"MSE\")\n",
        "\n",
        "\n",
        "\n",
        "\n",
        "\"\"\"\n",
        "for i in range(empty.shape[1]):\n",
        "  x = empty[:,i]\n",
        "  plt.plot(lambda_array,x,label=columns_label[i],linestyle='--', marker='o')\n",
        "\"\"\"\n",
        "\n",
        "\"\"\"\n",
        "This is for beta vs lambda (NOT MSE)\n",
        "\n",
        "plt.title(\"Lasso Coefficients vs λ (NOT MSE)\")\n",
        "plt.legend(loc=\"right\",bbox_to_anchor=(1.25, 0.5))\n",
        "plt.xlabel(\"λ\")\n",
        "plt.ylabel(\"β\")\n",
        "\n",
        "plt.show()\n",
        "\"\"\"\n",
        "\n",
        "\n",
        "\n",
        "\n",
        "\n",
        "\n"
      ],
      "execution_count": null,
      "outputs": []
    }
  ]
}